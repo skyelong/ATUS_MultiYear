{
 "cells": [
  {
   "cell_type": "markdown",
   "metadata": {
    "toc": true
   },
   "source": [
    "<h1>Table of Contents<span class=\"tocSkip\"></span></h1>\n",
    "<div class=\"toc\"><ul class=\"toc-item\"><li><span><a href=\"#Introduction\" data-toc-modified-id=\"Introduction-1\"><span class=\"toc-item-num\">1&nbsp;&nbsp;</span>Introduction</a></span><ul class=\"toc-item\"><li><ul class=\"toc-item\"><li><span><a href=\"#The-ATUS-multi-year-files\" data-toc-modified-id=\"The-ATUS-multi-year-files-1.0.1\"><span class=\"toc-item-num\">1.0.1&nbsp;&nbsp;</span>The ATUS multi-year files</a></span><ul class=\"toc-item\"><li><span><a href=\"#Links-to-important-documents:\" data-toc-modified-id=\"Links-to-important-documents:-1.0.1.1\"><span class=\"toc-item-num\">1.0.1.1&nbsp;&nbsp;</span>Links to important documents:</a></span></li><li><span><a href=\"#Links-to-important-data-files:\" data-toc-modified-id=\"Links-to-important-data-files:-1.0.1.2\"><span class=\"toc-item-num\">1.0.1.2&nbsp;&nbsp;</span>Links to important data files:</a></span></li></ul></li></ul></li></ul></li><li><span><a href=\"#To-Do-List\" data-toc-modified-id=\"To-Do-List-2\"><span class=\"toc-item-num\">2&nbsp;&nbsp;</span>To Do List</a></span></li><li><span><a href=\"#Code-Start\" data-toc-modified-id=\"Code-Start-3\"><span class=\"toc-item-num\">3&nbsp;&nbsp;</span>Code Start</a></span><ul class=\"toc-item\"><li><span><a href=\"#Libraries\" data-toc-modified-id=\"Libraries-3.1\"><span class=\"toc-item-num\">3.1&nbsp;&nbsp;</span>Libraries</a></span></li></ul></li><li><span><a href=\"#Data-Cleaning\" data-toc-modified-id=\"Data-Cleaning-4\"><span class=\"toc-item-num\">4&nbsp;&nbsp;</span>Data Cleaning</a></span><ul class=\"toc-item\"><li><span><a href=\"#importing\" data-toc-modified-id=\"importing-4.1\"><span class=\"toc-item-num\">4.1&nbsp;&nbsp;</span>importing</a></span><ul class=\"toc-item\"><li><span><a href=\"#Chunking-Large-files-OR-SQL\" data-toc-modified-id=\"Chunking-Large-files-OR-SQL-4.1.1\"><span class=\"toc-item-num\">4.1.1&nbsp;&nbsp;</span>Chunking Large files OR SQL</a></span></li><li><span><a href=\"#Chunking-using-pandas\" data-toc-modified-id=\"Chunking-using-pandas-4.1.2\"><span class=\"toc-item-num\">4.1.2&nbsp;&nbsp;</span>Chunking using pandas</a></span></li><li><span><a href=\"#Using-Postgre-SQL\" data-toc-modified-id=\"Using-Postgre-SQL-4.1.3\"><span class=\"toc-item-num\">4.1.3&nbsp;&nbsp;</span>Using Postgre SQL</a></span></li><li><span><a href=\"#Chunking-CPS-file\" data-toc-modified-id=\"Chunking-CPS-file-4.1.4\"><span class=\"toc-item-num\">4.1.4&nbsp;&nbsp;</span>Chunking CPS file</a></span></li></ul></li><li><span><a href=\"#Cleaning\" data-toc-modified-id=\"Cleaning-4.2\"><span class=\"toc-item-num\">4.2&nbsp;&nbsp;</span>Cleaning</a></span><ul class=\"toc-item\"><li><span><a href=\"#Income-calulations\" data-toc-modified-id=\"Income-calulations-4.2.1\"><span class=\"toc-item-num\">4.2.1&nbsp;&nbsp;</span>Income calulations</a></span></li><li><span><a href=\"#Cleaning-cps-income\" data-toc-modified-id=\"Cleaning-cps-income-4.2.2\"><span class=\"toc-item-num\">4.2.2&nbsp;&nbsp;</span>Cleaning cps income</a></span></li><li><span><a href=\"#Merging-cps-with-sum\" data-toc-modified-id=\"Merging-cps-with-sum-4.2.3\"><span class=\"toc-item-num\">4.2.3&nbsp;&nbsp;</span>Merging cps with sum</a></span></li><li><span><a href=\"#Save-Point!\" data-toc-modified-id=\"Save-Point!-4.2.4\"><span class=\"toc-item-num\">4.2.4&nbsp;&nbsp;</span>Save Point!</a></span></li><li><span><a href=\"#Simplifying-Categories\" data-toc-modified-id=\"Simplifying-Categories-4.2.5\"><span class=\"toc-item-num\">4.2.5&nbsp;&nbsp;</span>Simplifying Categories</a></span><ul class=\"toc-item\"><li><span><a href=\"#Education\" data-toc-modified-id=\"Education-4.2.5.1\"><span class=\"toc-item-num\">4.2.5.1&nbsp;&nbsp;</span>Education</a></span></li><li><span><a href=\"#Income-transforms\" data-toc-modified-id=\"Income-transforms-4.2.5.2\"><span class=\"toc-item-num\">4.2.5.2&nbsp;&nbsp;</span>Income transforms</a></span></li><li><span><a href=\"#Ethnicity\" data-toc-modified-id=\"Ethnicity-4.2.5.3\"><span class=\"toc-item-num\">4.2.5.3&nbsp;&nbsp;</span>Ethnicity</a></span></li></ul></li><li><span><a href=\"#Code-mapping-to-text-values\" data-toc-modified-id=\"Code-mapping-to-text-values-4.2.6\"><span class=\"toc-item-num\">4.2.6&nbsp;&nbsp;</span>Code mapping to text values</a></span><ul class=\"toc-item\"><li><span><a href=\"#making-the-dictonaries-from-PDFs\" data-toc-modified-id=\"making-the-dictonaries-from-PDFs-4.2.6.1\"><span class=\"toc-item-num\">4.2.6.1&nbsp;&nbsp;</span>making the dictonaries from PDFs</a></span></li><li><span><a href=\"#Making-dictionaries-with-alternate-titles\" data-toc-modified-id=\"Making-dictionaries-with-alternate-titles-4.2.6.2\"><span class=\"toc-item-num\">4.2.6.2&nbsp;&nbsp;</span>Making dictionaries with alternate titles</a></span></li><li><span><a href=\"#Adding-dictionaries-to-file\" data-toc-modified-id=\"Adding-dictionaries-to-file-4.2.6.3\"><span class=\"toc-item-num\">4.2.6.3&nbsp;&nbsp;</span>Adding dictionaries to file</a></span></li></ul></li></ul></li></ul></li><li><span><a href=\"#Exporting-for-viz\" data-toc-modified-id=\"Exporting-for-viz-5\"><span class=\"toc-item-num\">5&nbsp;&nbsp;</span>Exporting for viz</a></span></li><li><span><a href=\"#Activity-Coding\" data-toc-modified-id=\"Activity-Coding-6\"><span class=\"toc-item-num\">6&nbsp;&nbsp;</span>Activity Coding</a></span></li></ul></div>"
   ]
  },
  {
   "cell_type": "markdown",
   "metadata": {
    "heading_collapsed": true
   },
   "source": [
    "# Introduction\n",
    "\n"
   ]
  },
  {
   "cell_type": "markdown",
   "metadata": {
    "hidden": true
   },
   "source": [
    "### The ATUS multi-year files\n",
    "\n"
   ]
  },
  {
   "cell_type": "markdown",
   "metadata": {
    "hidden": true
   },
   "source": [
    "#### Links to important documents:"
   ]
  },
  {
   "cell_type": "markdown",
   "metadata": {
    "hidden": true
   },
   "source": [
    "\n",
    "[ATUS users guide](documents/atususersguide.pdf) | pg.29 - Information on imputation of Income data in CPS file | pg.- 31 Rates of Missing and Imputed ATUS data | pg. 33 - Lists the contents and names of individual ATUS data files. | pg.34 Formulas for calculating time estimates using the weights | pg - 70 Examples of estimating time\n",
    "\n",
    "[ATUS CPS DATA DICTONARY](documents/atuscpscodebk0318.pdf) | Lists codes used in the CPS survey. CPS survey occurred before the activity diaries and may have some loss. **Only variable of interest : HUFAMINC and HEFMINC**. These categorize income, however, there is a higher level of imputed data. | pg. 17 - Codes for income levels.\n",
    "\n",
    "[ATUS Activity Lexicon](documents/lexiconnoex0318.pdf) | Lists codes for activities in the summary and diary files. Codes are also included in the codes.csv file."
   ]
  },
  {
   "cell_type": "markdown",
   "metadata": {
    "hidden": true
   },
   "source": [
    "#### Links to important data files:"
   ]
  },
  {
   "cell_type": "markdown",
   "metadata": {
    "hidden": true
   },
   "source": [
    "ATUS CPS datafile: [atuscps_0318](data/atuscps_0318.dat) | Contains the CPS survey information\n",
    "\n",
    "ATUS Respondent file [atusresp_0318](data/atusresp_0318.dat) | Contains demographic information for each respondent.\n",
    "\n",
    "ATUS Code file [codes](data/codes.csv) | Contains activity codes. **No demographic codes included**\n",
    "\n",
    "ATUS Summary File [atussum_0318](data/atussum_0318.dat') | Contains summaries of daily activity for each respondent. Unweighted!\n",
    "\n",
    "ATUS Weights File [atuswgts](data/atuswgts.csv) | Weights for each respondant for use in calulating estimates of time use."
   ]
  },
  {
   "cell_type": "markdown",
   "metadata": {
    "heading_collapsed": true
   },
   "source": [
    "# To Do List\n"
   ]
  },
  {
   "cell_type": "markdown",
   "metadata": {
    "hidden": true
   },
   "source": [
    "<input type=\"checkbox\" disabled> Import csv files\n",
    "\n",
    "<input type=\"checkbox\" disabled> Check variance, numbers between years. If variance low, combine years, if high generate two files one combined and one separate for comparison\n",
    "\n",
    "<input type=\"checkbox\" disabled> Clean missing data.\n",
    "\n",
    "<input type=\"checkbox\" disabled> Make Data Dictonary from Codes\n",
    "\n",
    "<input type=\"checkbox\" disabled> Summarize Activities and Weight.\n",
    "\n",
    "<input type=\"checkbox\" disabled> MAYBE look within activities for strong signals\n",
    "\n",
    "<input type=\"checkbox\" disabled> Check the loss between using trenwa | weekly earnings in summary file or HUFAMINC income brackets in cps file\n",
    "\n",
    "<input type=\"checkbox\" disabled> Break into demgraphic groups: Age(decades?), gender, income, education\n",
    "\n",
    "<input type=\"checkbox\" disabled> Code non label demographic groups as features.\n",
    "\n",
    "<input type=\"checkbox\" disabled> Correlation plots between demographic groups and activity summaries to look for features. Use other demographic groups as features.\n",
    "\n",
    "<input type=\"checkbox\" disabled> Subset features\n",
    "\n",
    "<input type=\"checkbox\" disabled> Split into regression vs clustering\n",
    "\n",
    "<input type=\"checkbox\" disabled> Set up pipeline\n",
    "\n",
    "<input type=\"checkbox\" disabled> Regularize or Normalize variables\n",
    "\n",
    "<input type=\"checkbox\" disabled> Run inital ML\n",
    "\n",
    "<input type=\"checkbox\" disabled> Compare accuracy and select best fit for optimization or use essemblage"
   ]
  },
  {
   "cell_type": "markdown",
   "metadata": {},
   "source": [
    "# Code Start"
   ]
  },
  {
   "cell_type": "markdown",
   "metadata": {},
   "source": [
    "## Libraries"
   ]
  },
  {
   "cell_type": "code",
   "execution_count": 1,
   "metadata": {
    "ExecuteTime": {
     "end_time": "2020-03-27T05:33:21.826338Z",
     "start_time": "2020-03-27T05:33:20.601091Z"
    },
    "code_folding": []
   },
   "outputs": [],
   "source": [
    "#libraries\n",
    "import numpy as np\n",
    "import numpy as np\n",
    "import matplotlib as mpl\n",
    "import matplotlib.pyplot as plt\n",
    "import pandas as pd\n",
    "import re\n",
    "import seaborn as sns\n",
    "\n",
    "#setups\n",
    "%matplotlib inline\n",
    "sns.set()\n",
    "#this will let you see all the columns that are in the dataset\n",
    "pd.set_option('display.max_columns', None)\n",
    "pd.set_option('display.max_colwidth', None)\n",
    "pd.set_option('display.max_rows', None)"
   ]
  },
  {
   "cell_type": "markdown",
   "metadata": {},
   "source": [
    "# Data Cleaning\n"
   ]
  },
  {
   "cell_type": "markdown",
   "metadata": {
    "heading_collapsed": true
   },
   "source": [
    "## importing \n"
   ]
  },
  {
   "cell_type": "markdown",
   "metadata": {
    "heading_collapsed": true,
    "hidden": true
   },
   "source": [
    "### Chunking Large files OR SQL\n",
    "Over a million rows, YIKES! \n",
    "SQL or chunking, lets see who wins!\n",
    "\n",
    "Looking through the data dictonary, it seems like I can pull out only some values. \n",
    "CPS only four columns needed:\n",
    "\n",
    " - TUCASEID - linking variable. The case ID is repeated for each member of the family. Take only TULNENO == 1 will give me the information for the actual respondent, which will match the demographic data for the summary file. As the income is shared for all members of the group this should be fine. \n",
    "\n",
    "Should be able to combine these during chunking \n",
    " - HUFAMINC - Income levels for years < 2010\n",
    " -HEFAMINC - Income levels for years > 2010\n",
    "\n",
    " - HRYEAR4 - year of the interview\n",
    " \n",
    "Chunk iterate over the activities to pull out summaries for individual activities."
   ]
  },
  {
   "cell_type": "markdown",
   "metadata": {
    "hidden": true
   },
   "source": [
    "### Chunking using pandas"
   ]
  },
  {
   "cell_type": "code",
   "execution_count": 14,
   "metadata": {
    "ExecuteTime": {
     "end_time": "2020-03-27T04:25:33.612058Z",
     "start_time": "2020-03-27T04:25:31.213309Z"
    },
    "hidden": true
   },
   "outputs": [
    {
     "name": "stdout",
     "output_type": "stream",
     "text": [
      "(0, 13)\n",
      "(0, 13)\n",
      "(0, 13)\n",
      "(0, 13)\n",
      "(0, 13)\n",
      "(0, 13)\n",
      "(0, 13)\n",
      "(7078, 13)\n",
      "(10000, 13)\n",
      "(10000, 13)\n",
      "(10000, 13)\n",
      "(10000, 13)\n",
      "(10000, 13)\n",
      "(10000, 13)\n",
      "(10000, 13)\n",
      "(10000, 13)\n",
      "(10000, 13)\n",
      "(10000, 13)\n",
      "(10000, 13)\n",
      "(10000, 13)\n",
      "(1151, 13)\n"
     ]
    },
    {
     "data": {
      "text/plain": [
       "(128229, 13)"
      ]
     },
     "execution_count": 14,
     "metadata": {},
     "output_type": "execute_result"
    }
   ],
   "source": [
    "#chunking the summary file for all columns\n",
    "columns_to_keep = ['TUCASEID','PEEDUCA','PEHSPNON','PTDTRACE','TEAGE','TELFS','TESEX','TESPEMPNOT','TRCHILDNUM','TRDPFTPT','TRERNWA','TUFNWGTP','TUYEAR']\n",
    "\n",
    "#create the iterator\n",
    "summ_demo_iter = pd.read_csv('data/atussum_0318.txt', iterator= True, chunksize=10000, usecols=columns_to_keep)\n",
    "\n",
    "#list for storing the dfs\n",
    "summ_list = []\n",
    "\n",
    "\n",
    "#iterator\n",
    "for chunk in summ_demo_iter:\n",
    "    summ_temp = chunk[(chunk.TUYEAR >= 2008)]\n",
    "    summ_temp = summ_temp.rename(columns={'TUCASEID':'case_id','PEEDUCA':'education','PEHSPNON':'hispanic','PTDTRACE':'ethnicity','TEAGE':'age','TELFS':'employed','TESEX':'gender','TESPEMPNOT':'spouse_empl','TRCHILDNUM':'num_child','TRDPFTPT':'full_part_wrk','TRERNWA':'weekly_earn','TUFNWGTP':'weights','TUYEAR':'year'})\n",
    "    summ_list.append(summ_temp)\n",
    "    print(summ_temp.shape)\n",
    "\n",
    "summ_demo_final = pd.concat(summ_list)\n",
    "\n",
    "summ_demo_final.shape\n"
   ]
  },
  {
   "cell_type": "code",
   "execution_count": 26,
   "metadata": {
    "ExecuteTime": {
     "end_time": "2020-03-26T22:12:46.515857Z",
     "start_time": "2020-03-26T22:12:46.502383Z"
    },
    "hidden": true,
    "scrolled": true
   },
   "outputs": [
    {
     "data": {
      "text/html": [
       "<div>\n",
       "<style scoped>\n",
       "    .dataframe tbody tr th:only-of-type {\n",
       "        vertical-align: middle;\n",
       "    }\n",
       "\n",
       "    .dataframe tbody tr th {\n",
       "        vertical-align: top;\n",
       "    }\n",
       "\n",
       "    .dataframe thead th {\n",
       "        text-align: right;\n",
       "    }\n",
       "</style>\n",
       "<table border=\"1\" class=\"dataframe\">\n",
       "  <thead>\n",
       "    <tr style=\"text-align: right;\">\n",
       "      <th></th>\n",
       "      <th>case_id</th>\n",
       "      <th>education</th>\n",
       "      <th>hispanic</th>\n",
       "      <th>ethnicity</th>\n",
       "      <th>age</th>\n",
       "      <th>employed</th>\n",
       "      <th>gender</th>\n",
       "      <th>spouse_empl</th>\n",
       "      <th>num_child</th>\n",
       "      <th>full_part_wrk</th>\n",
       "      <th>weekly_earn</th>\n",
       "      <th>weights</th>\n",
       "      <th>year</th>\n",
       "    </tr>\n",
       "  </thead>\n",
       "  <tbody>\n",
       "    <tr>\n",
       "      <th>72922</th>\n",
       "      <td>20080101080013</td>\n",
       "      <td>36</td>\n",
       "      <td>1</td>\n",
       "      <td>1</td>\n",
       "      <td>55</td>\n",
       "      <td>1</td>\n",
       "      <td>1</td>\n",
       "      <td>-1</td>\n",
       "      <td>0</td>\n",
       "      <td>1</td>\n",
       "      <td>240384</td>\n",
       "      <td>1.742496e+07</td>\n",
       "      <td>2008</td>\n",
       "    </tr>\n",
       "  </tbody>\n",
       "</table>\n",
       "</div>"
      ],
      "text/plain": [
       "              case_id  education  hispanic  ethnicity  age  employed  gender  \\\n",
       "72922  20080101080013         36         1          1   55         1       1   \n",
       "\n",
       "       spouse_empl  num_child  full_part_wrk  weekly_earn       weights  year  \n",
       "72922           -1          0              1       240384  1.742496e+07  2008  "
      ]
     },
     "execution_count": 26,
     "metadata": {},
     "output_type": "execute_result"
    }
   ],
   "source": [
    "summ_demo_final.head(1)"
   ]
  },
  {
   "cell_type": "markdown",
   "metadata": {
    "heading_collapsed": true,
    "hidden": true
   },
   "source": [
    "### Using Postgre SQL "
   ]
  },
  {
   "cell_type": "markdown",
   "metadata": {
    "hidden": true
   },
   "source": [
    "Chunking finished in = 7.39s, finished "
   ]
  },
  {
   "cell_type": "code",
   "execution_count": null,
   "metadata": {
    "ExecuteTime": {
     "end_time": "2020-03-26T19:59:09.157413Z",
     "start_time": "2020-03-26T19:58:42.092680Z"
    },
    "hidden": true
   },
   "outputs": [],
   "source": [
    "import psycopg2 \n",
    "import sqlalchemy\n",
    "\n",
    "c = psycopg2.connect(host='127.0.0.1', database='skye', user='smlong', password='Dvader2010', sslmode='disable')\n",
    "cursorPsy= c.cursor()\n",
    "summ_sql = pd.read_sql_query('''SELECT * FROM summary WHERE \"TUYEAR\" BETWEEN 2008 AND 2018''', c)"
   ]
  },
  {
   "cell_type": "markdown",
   "metadata": {
    "hidden": true
   },
   "source": [
    "SQL finised in 27.1s. OUCH! Chuncking wins!"
   ]
  },
  {
   "cell_type": "code",
   "execution_count": null,
   "metadata": {
    "ExecuteTime": {
     "end_time": "2020-03-26T19:59:36.960885Z",
     "start_time": "2020-03-26T19:59:36.956891Z"
    },
    "hidden": true
   },
   "outputs": [],
   "source": [
    "print(summ_sql.shape)"
   ]
  },
  {
   "cell_type": "markdown",
   "metadata": {
    "hidden": true
   },
   "source": [
    "### Chunking CPS file"
   ]
  },
  {
   "cell_type": "code",
   "execution_count": 15,
   "metadata": {
    "ExecuteTime": {
     "end_time": "2020-03-27T04:25:49.238276Z",
     "start_time": "2020-03-27T04:25:40.794318Z"
    },
    "hidden": true
   },
   "outputs": [
    {
     "data": {
      "text/plain": [
       "(264900, 5)"
      ]
     },
     "execution_count": 15,
     "metadata": {},
     "output_type": "execute_result"
    }
   ],
   "source": [
    "#chunking the CPS file to get only unique ids and columns of interest\n",
    "cps_cols_to_keep = ['TUCASEID', 'TULINENO', 'HUFAMINC', 'HEFAMINC', 'HRYEAR4']\n",
    "\n",
    "#create the iterator\n",
    "cps_iter = pd.read_csv('data/atuscps_0318.dat', iterator= True, chunksize=20000, usecols=cps_cols_to_keep)\n",
    "\n",
    "#list for storing the dfs\n",
    "cps_list = []\n",
    "\n",
    "\n",
    "#iterator\n",
    "for chunk in cps_iter:\n",
    "    cps_temp = chunk[(chunk.TULINENO == 1) & (chunk.HRYEAR4 >= 2008)]\n",
    "    cps_temp = cps_temp.rename(columns={'TUCASEID':'case_id','HUFAMINC':'faminc_1','HEFAMINC':'faminc_2','HRYEAR4':'year'})\n",
    "    cps_list.append(cps_temp)\n",
    "\n",
    "cps_final = pd.concat(cps_list)\n",
    "cps_final.reset_index(drop=True, inplace=True)\n",
    "cps_final.shape"
   ]
  },
  {
   "cell_type": "markdown",
   "metadata": {},
   "source": [
    "## Cleaning"
   ]
  },
  {
   "cell_type": "markdown",
   "metadata": {},
   "source": [
    "### Income calulations"
   ]
  },
  {
   "cell_type": "markdown",
   "metadata": {},
   "source": [
    "I want to use income as one of the features and eventually labels in my study. However, it is calculated two different ways. \n",
    "In the CPS file the income is calculated as a bracket. However, not all participants in the CPS continued on to the final ATUS survey. These values are also imputed between 3-10%, so there is some error.\n",
    "The summary file contains the weekly earning, but they are only updated for those whose numbers changed between the CPS (given prior to the ATUS) and the ATUS. These are also imputed at a rate of 6-9% but are missing for many values.\n",
    "\n",
    "I want to see which way will give me the least amount of lost. "
   ]
  },
  {
   "cell_type": "code",
   "execution_count": 29,
   "metadata": {
    "ExecuteTime": {
     "end_time": "2020-03-26T22:34:59.499821Z",
     "start_time": "2020-03-26T22:34:59.496827Z"
    }
   },
   "outputs": [],
   "source": [
    "summ_num_ind = summ_demo_final['case_id']"
   ]
  },
  {
   "cell_type": "code",
   "execution_count": 30,
   "metadata": {
    "ExecuteTime": {
     "end_time": "2020-03-26T22:35:24.912000Z",
     "start_time": "2020-03-26T22:35:24.908007Z"
    }
   },
   "outputs": [],
   "source": [
    "cps_num_ind = cps_final['case_id']"
   ]
  },
  {
   "cell_type": "code",
   "execution_count": 42,
   "metadata": {
    "ExecuteTime": {
     "end_time": "2020-03-26T22:49:40.970912Z",
     "start_time": "2020-03-26T22:49:40.866110Z"
    }
   },
   "outputs": [],
   "source": [
    " merge = pd.merge(summ_num_ind,cps_num_ind, left_on=['case_id'], right_on=['case_id'], how='inner', suffixes=('_sum', '_cps')).reset_index(drop=True).copy(deep=True)"
   ]
  },
  {
   "cell_type": "code",
   "execution_count": 46,
   "metadata": {
    "ExecuteTime": {
     "end_time": "2020-03-26T22:51:07.594565Z",
     "start_time": "2020-03-26T22:51:07.589574Z"
    }
   },
   "outputs": [
    {
     "data": {
      "text/plain": [
       "2.520490684634521"
      ]
     },
     "execution_count": 46,
     "metadata": {},
     "output_type": "execute_result"
    }
   ],
   "source": [
    "diff = (len(summ_demo_final) - len(merge))/len(summ_demo_final)*100.0\n",
    "diff"
   ]
  },
  {
   "cell_type": "markdown",
   "metadata": {},
   "source": [
    "about a 2.52% loss from CPS to ATUS"
   ]
  },
  {
   "cell_type": "code",
   "execution_count": 48,
   "metadata": {
    "ExecuteTime": {
     "end_time": "2020-03-26T22:55:43.984314Z",
     "start_time": "2020-03-26T22:55:43.972838Z"
    }
   },
   "outputs": [],
   "source": [
    "sum_no_inc = summ_demo_final[(summ_demo_final.weekly_earn == -1)]"
   ]
  },
  {
   "cell_type": "code",
   "execution_count": 51,
   "metadata": {
    "ExecuteTime": {
     "end_time": "2020-03-26T22:57:01.087800Z",
     "start_time": "2020-03-26T22:57:01.082810Z"
    }
   },
   "outputs": [
    {
     "data": {
      "text/plain": [
       "54.0774707749417"
      ]
     },
     "execution_count": 51,
     "metadata": {},
     "output_type": "execute_result"
    }
   ],
   "source": [
    "len(sum_no_inc)\n",
    "diff_2 = (len(summ_demo_final) - len(sum_no_inc))/len(summ_demo_final)*100.0\n",
    "diff_2"
   ]
  },
  {
   "cell_type": "markdown",
   "metadata": {},
   "source": [
    "woof 54% loss using the weekly earning"
   ]
  },
  {
   "cell_type": "markdown",
   "metadata": {},
   "source": [
    "### Cleaning cps income"
   ]
  },
  {
   "cell_type": "markdown",
   "metadata": {},
   "source": [
    "HUFAMINC - Income levels for years < 2010 -HEFAMINC - Income levels for years > 2010"
   ]
  },
  {
   "cell_type": "code",
   "execution_count": 87,
   "metadata": {
    "ExecuteTime": {
     "end_time": "2020-03-27T00:30:52.580019Z",
     "start_time": "2020-03-27T00:30:52.571036Z"
    }
   },
   "outputs": [
    {
     "data": {
      "text/plain": [
       "28"
      ]
     },
     "execution_count": 87,
     "metadata": {},
     "output_type": "execute_result"
    }
   ],
   "source": [
    "#the number of missing values for both income catagories\n",
    "both = cps_final[(cps_final.faminc_1 == -1) & (cps_final.faminc_2 == -1)]\n",
    "len(both)"
   ]
  },
  {
   "cell_type": "markdown",
   "metadata": {},
   "source": [
    "28 missing values for both columns. HOWEVER, there is also 9009 values that are -2 or -3, which are also missing codes. So the total of 0 inputs should be\n",
    "9037"
   ]
  },
  {
   "cell_type": "code",
   "execution_count": 16,
   "metadata": {
    "ExecuteTime": {
     "end_time": "2020-03-27T04:26:38.310524Z",
     "start_time": "2020-03-27T04:26:07.634137Z"
    }
   },
   "outputs": [],
   "source": [
    "test_col = []\n",
    "for i in range(len(cps_final)):\n",
    "    if cps_final.faminc_1[i] == -1 and cps_final.faminc_2[i] == -1:\n",
    "        test_col.append(0)\n",
    "    elif cps_final.faminc_1[i] > -1:\n",
    "        test_col.append(cps_final.faminc_1[i])\n",
    "    elif cps_final.faminc_2[i] > -1:\n",
    "        test_col.append(cps_final.faminc_2[i])\n",
    "    else:\n",
    "        test_col.append(0)"
   ]
  },
  {
   "cell_type": "code",
   "execution_count": 17,
   "metadata": {
    "ExecuteTime": {
     "end_time": "2020-03-27T04:26:41.833413Z",
     "start_time": "2020-03-27T04:26:41.761460Z"
    }
   },
   "outputs": [],
   "source": [
    "ones = [i for i in test_col if i == 0]\n",
    "assert len(ones) == 9037, \"missing values\""
   ]
  },
  {
   "cell_type": "code",
   "execution_count": 18,
   "metadata": {
    "ExecuteTime": {
     "end_time": "2020-03-27T04:26:45.868514Z",
     "start_time": "2020-03-27T04:26:45.769618Z"
    }
   },
   "outputs": [],
   "source": [
    "cps_final['income'] = test_col"
   ]
  },
  {
   "cell_type": "code",
   "execution_count": 19,
   "metadata": {
    "ExecuteTime": {
     "end_time": "2020-03-27T04:26:47.716134Z",
     "start_time": "2020-03-27T04:26:47.699166Z"
    }
   },
   "outputs": [
    {
     "data": {
      "text/html": [
       "<div>\n",
       "<style scoped>\n",
       "    .dataframe tbody tr th:only-of-type {\n",
       "        vertical-align: middle;\n",
       "    }\n",
       "\n",
       "    .dataframe tbody tr th {\n",
       "        vertical-align: top;\n",
       "    }\n",
       "\n",
       "    .dataframe thead th {\n",
       "        text-align: right;\n",
       "    }\n",
       "</style>\n",
       "<table border=\"1\" class=\"dataframe\">\n",
       "  <thead>\n",
       "    <tr style=\"text-align: right;\">\n",
       "      <th></th>\n",
       "      <th>case_id</th>\n",
       "      <th>TULINENO</th>\n",
       "      <th>faminc_2</th>\n",
       "      <th>year</th>\n",
       "      <th>faminc_1</th>\n",
       "      <th>income</th>\n",
       "    </tr>\n",
       "  </thead>\n",
       "  <tbody>\n",
       "    <tr>\n",
       "      <th>0</th>\n",
       "      <td>20080303080013</td>\n",
       "      <td>1</td>\n",
       "      <td>-1</td>\n",
       "      <td>2008</td>\n",
       "      <td>10</td>\n",
       "      <td>10</td>\n",
       "    </tr>\n",
       "    <tr>\n",
       "      <th>1</th>\n",
       "      <td>20080303080032</td>\n",
       "      <td>1</td>\n",
       "      <td>-1</td>\n",
       "      <td>2008</td>\n",
       "      <td>-3</td>\n",
       "      <td>0</td>\n",
       "    </tr>\n",
       "    <tr>\n",
       "      <th>2</th>\n",
       "      <td>20080303080034</td>\n",
       "      <td>1</td>\n",
       "      <td>-1</td>\n",
       "      <td>2008</td>\n",
       "      <td>-3</td>\n",
       "      <td>0</td>\n",
       "    </tr>\n",
       "    <tr>\n",
       "      <th>3</th>\n",
       "      <td>20080303080047</td>\n",
       "      <td>1</td>\n",
       "      <td>-1</td>\n",
       "      <td>2008</td>\n",
       "      <td>8</td>\n",
       "      <td>8</td>\n",
       "    </tr>\n",
       "    <tr>\n",
       "      <th>4</th>\n",
       "      <td>20080303080048</td>\n",
       "      <td>1</td>\n",
       "      <td>-1</td>\n",
       "      <td>2008</td>\n",
       "      <td>9</td>\n",
       "      <td>9</td>\n",
       "    </tr>\n",
       "    <tr>\n",
       "      <th>5</th>\n",
       "      <td>20080303080052</td>\n",
       "      <td>1</td>\n",
       "      <td>-1</td>\n",
       "      <td>2008</td>\n",
       "      <td>8</td>\n",
       "      <td>8</td>\n",
       "    </tr>\n",
       "    <tr>\n",
       "      <th>6</th>\n",
       "      <td>20080303080060</td>\n",
       "      <td>1</td>\n",
       "      <td>-1</td>\n",
       "      <td>2008</td>\n",
       "      <td>-3</td>\n",
       "      <td>0</td>\n",
       "    </tr>\n",
       "    <tr>\n",
       "      <th>7</th>\n",
       "      <td>20080303080063</td>\n",
       "      <td>1</td>\n",
       "      <td>-1</td>\n",
       "      <td>2008</td>\n",
       "      <td>2</td>\n",
       "      <td>2</td>\n",
       "    </tr>\n",
       "    <tr>\n",
       "      <th>8</th>\n",
       "      <td>20080303080069</td>\n",
       "      <td>1</td>\n",
       "      <td>-1</td>\n",
       "      <td>2008</td>\n",
       "      <td>-3</td>\n",
       "      <td>0</td>\n",
       "    </tr>\n",
       "    <tr>\n",
       "      <th>9</th>\n",
       "      <td>20080303080074</td>\n",
       "      <td>1</td>\n",
       "      <td>-1</td>\n",
       "      <td>2008</td>\n",
       "      <td>3</td>\n",
       "      <td>3</td>\n",
       "    </tr>\n",
       "  </tbody>\n",
       "</table>\n",
       "</div>"
      ],
      "text/plain": [
       "          case_id  TULINENO  faminc_2  year  faminc_1  income\n",
       "0  20080303080013         1        -1  2008        10      10\n",
       "1  20080303080032         1        -1  2008        -3       0\n",
       "2  20080303080034         1        -1  2008        -3       0\n",
       "3  20080303080047         1        -1  2008         8       8\n",
       "4  20080303080048         1        -1  2008         9       9\n",
       "5  20080303080052         1        -1  2008         8       8\n",
       "6  20080303080060         1        -1  2008        -3       0\n",
       "7  20080303080063         1        -1  2008         2       2\n",
       "8  20080303080069         1        -1  2008        -3       0\n",
       "9  20080303080074         1        -1  2008         3       3"
      ]
     },
     "execution_count": 19,
     "metadata": {},
     "output_type": "execute_result"
    }
   ],
   "source": [
    "cps_final.head(10)"
   ]
  },
  {
   "cell_type": "code",
   "execution_count": 20,
   "metadata": {
    "ExecuteTime": {
     "end_time": "2020-03-27T04:26:54.979563Z",
     "start_time": "2020-03-27T04:26:54.969581Z"
    }
   },
   "outputs": [
    {
     "data": {
      "text/plain": [
       "14    27832\n",
       "15    26113\n",
       "13    24707\n",
       "11    21766\n",
       "12    20911\n",
       "16    19851\n",
       "9     16079\n",
       "7     15998\n",
       "8     15625\n",
       "10    14100\n",
       "6     13402\n",
       "4      9620\n",
       "0      9037\n",
       "1      8604\n",
       "5      8394\n",
       "3      7533\n",
       "2      5328\n",
       "Name: income, dtype: int64"
      ]
     },
     "execution_count": 20,
     "metadata": {},
     "output_type": "execute_result"
    }
   ],
   "source": [
    "cps_final.income.value_counts()"
   ]
  },
  {
   "cell_type": "code",
   "execution_count": 21,
   "metadata": {
    "ExecuteTime": {
     "end_time": "2020-03-27T04:27:03.640126Z",
     "start_time": "2020-03-27T04:27:03.601203Z"
    }
   },
   "outputs": [],
   "source": [
    "#drop the 0 income before joining to summary\n",
    "cps_sub = cps_final[cps_final.income != 0]"
   ]
  },
  {
   "cell_type": "code",
   "execution_count": 22,
   "metadata": {
    "ExecuteTime": {
     "end_time": "2020-03-27T04:27:11.733710Z",
     "start_time": "2020-03-27T04:27:11.729218Z"
    }
   },
   "outputs": [
    {
     "data": {
      "text/plain": [
       "-9037"
      ]
     },
     "execution_count": 22,
     "metadata": {},
     "output_type": "execute_result"
    }
   ],
   "source": [
    "len(cps_sub) - len(cps_final)"
   ]
  },
  {
   "cell_type": "code",
   "execution_count": 23,
   "metadata": {
    "ExecuteTime": {
     "end_time": "2020-03-27T04:27:13.816116Z",
     "start_time": "2020-03-27T04:27:13.809130Z"
    }
   },
   "outputs": [],
   "source": [
    "cps_income = cps_sub[['case_id', 'income']]"
   ]
  },
  {
   "cell_type": "markdown",
   "metadata": {},
   "source": [
    "### Merging cps with sum"
   ]
  },
  {
   "cell_type": "code",
   "execution_count": 24,
   "metadata": {
    "ExecuteTime": {
     "end_time": "2020-03-27T04:27:21.668834Z",
     "start_time": "2020-03-27T04:27:21.664843Z"
    }
   },
   "outputs": [],
   "source": [
    "#find the number of overlaping families with the new cps file\n",
    "summ_num_ind_2 = summ_demo_final['case_id']\n",
    "cps_num_ind_2 = cps_sub['case_id']"
   ]
  },
  {
   "cell_type": "code",
   "execution_count": 25,
   "metadata": {
    "ExecuteTime": {
     "end_time": "2020-03-27T04:27:24.411609Z",
     "start_time": "2020-03-27T04:27:24.313235Z"
    }
   },
   "outputs": [
    {
     "data": {
      "text/plain": [
       "121345"
      ]
     },
     "execution_count": 25,
     "metadata": {},
     "output_type": "execute_result"
    }
   ],
   "source": [
    "merge_2 = pd.merge(summ_num_ind_2,cps_income, left_on=['case_id'], right_on=['case_id'], how='inner', suffixes=('_sum', '_cps')).reset_index(drop=True).copy(deep=True)\n",
    "len(merge_2)"
   ]
  },
  {
   "cell_type": "markdown",
   "metadata": {},
   "source": [
    "Should have 121345 familes left after merge"
   ]
  },
  {
   "cell_type": "code",
   "execution_count": 26,
   "metadata": {
    "ExecuteTime": {
     "end_time": "2020-03-27T04:27:27.520296Z",
     "start_time": "2020-03-27T04:27:27.393039Z"
    }
   },
   "outputs": [
    {
     "data": {
      "text/plain": [
       "121345"
      ]
     },
     "execution_count": 26,
     "metadata": {},
     "output_type": "execute_result"
    }
   ],
   "source": [
    "all_demo_income = pd.merge(summ_demo_final,cps_income, left_on=['case_id'], right_on=['case_id'], how='inner', suffixes=('_sum', '_cps')).reset_index(drop=True).copy(deep=True)\n",
    "len(merge_2)"
   ]
  },
  {
   "cell_type": "code",
   "execution_count": 27,
   "metadata": {
    "ExecuteTime": {
     "end_time": "2020-03-27T04:27:30.323057Z",
     "start_time": "2020-03-27T04:27:30.306589Z"
    }
   },
   "outputs": [
    {
     "data": {
      "text/html": [
       "<div>\n",
       "<style scoped>\n",
       "    .dataframe tbody tr th:only-of-type {\n",
       "        vertical-align: middle;\n",
       "    }\n",
       "\n",
       "    .dataframe tbody tr th {\n",
       "        vertical-align: top;\n",
       "    }\n",
       "\n",
       "    .dataframe thead th {\n",
       "        text-align: right;\n",
       "    }\n",
       "</style>\n",
       "<table border=\"1\" class=\"dataframe\">\n",
       "  <thead>\n",
       "    <tr style=\"text-align: right;\">\n",
       "      <th></th>\n",
       "      <th>case_id</th>\n",
       "      <th>education</th>\n",
       "      <th>hispanic</th>\n",
       "      <th>ethnicity</th>\n",
       "      <th>age</th>\n",
       "      <th>employed</th>\n",
       "      <th>gender</th>\n",
       "      <th>spouse_empl</th>\n",
       "      <th>num_child</th>\n",
       "      <th>full_part_wrk</th>\n",
       "      <th>weekly_earn</th>\n",
       "      <th>weights</th>\n",
       "      <th>year</th>\n",
       "      <th>income</th>\n",
       "    </tr>\n",
       "  </thead>\n",
       "  <tbody>\n",
       "    <tr>\n",
       "      <th>0</th>\n",
       "      <td>20080303080013</td>\n",
       "      <td>44</td>\n",
       "      <td>2</td>\n",
       "      <td>2</td>\n",
       "      <td>57</td>\n",
       "      <td>1</td>\n",
       "      <td>1</td>\n",
       "      <td>-1</td>\n",
       "      <td>0</td>\n",
       "      <td>1</td>\n",
       "      <td>72000</td>\n",
       "      <td>2.218259e+06</td>\n",
       "      <td>2008</td>\n",
       "      <td>10</td>\n",
       "    </tr>\n",
       "    <tr>\n",
       "      <th>1</th>\n",
       "      <td>20080303080047</td>\n",
       "      <td>39</td>\n",
       "      <td>2</td>\n",
       "      <td>2</td>\n",
       "      <td>21</td>\n",
       "      <td>1</td>\n",
       "      <td>2</td>\n",
       "      <td>-1</td>\n",
       "      <td>0</td>\n",
       "      <td>1</td>\n",
       "      <td>40000</td>\n",
       "      <td>1.513846e+07</td>\n",
       "      <td>2008</td>\n",
       "      <td>8</td>\n",
       "    </tr>\n",
       "    <tr>\n",
       "      <th>2</th>\n",
       "      <td>20080303080048</td>\n",
       "      <td>40</td>\n",
       "      <td>2</td>\n",
       "      <td>2</td>\n",
       "      <td>23</td>\n",
       "      <td>1</td>\n",
       "      <td>2</td>\n",
       "      <td>-1</td>\n",
       "      <td>1</td>\n",
       "      <td>1</td>\n",
       "      <td>32800</td>\n",
       "      <td>1.348611e+07</td>\n",
       "      <td>2008</td>\n",
       "      <td>9</td>\n",
       "    </tr>\n",
       "    <tr>\n",
       "      <th>3</th>\n",
       "      <td>20080303080052</td>\n",
       "      <td>40</td>\n",
       "      <td>2</td>\n",
       "      <td>1</td>\n",
       "      <td>35</td>\n",
       "      <td>1</td>\n",
       "      <td>2</td>\n",
       "      <td>-1</td>\n",
       "      <td>0</td>\n",
       "      <td>1</td>\n",
       "      <td>47800</td>\n",
       "      <td>3.332833e+06</td>\n",
       "      <td>2008</td>\n",
       "      <td>8</td>\n",
       "    </tr>\n",
       "    <tr>\n",
       "      <th>4</th>\n",
       "      <td>20080303080074</td>\n",
       "      <td>39</td>\n",
       "      <td>2</td>\n",
       "      <td>2</td>\n",
       "      <td>24</td>\n",
       "      <td>1</td>\n",
       "      <td>1</td>\n",
       "      <td>-1</td>\n",
       "      <td>1</td>\n",
       "      <td>1</td>\n",
       "      <td>40000</td>\n",
       "      <td>3.215040e+07</td>\n",
       "      <td>2008</td>\n",
       "      <td>3</td>\n",
       "    </tr>\n",
       "    <tr>\n",
       "      <th>5</th>\n",
       "      <td>20080303080075</td>\n",
       "      <td>39</td>\n",
       "      <td>2</td>\n",
       "      <td>1</td>\n",
       "      <td>80</td>\n",
       "      <td>5</td>\n",
       "      <td>2</td>\n",
       "      <td>-1</td>\n",
       "      <td>0</td>\n",
       "      <td>-1</td>\n",
       "      <td>-1</td>\n",
       "      <td>3.682800e+07</td>\n",
       "      <td>2008</td>\n",
       "      <td>6</td>\n",
       "    </tr>\n",
       "    <tr>\n",
       "      <th>6</th>\n",
       "      <td>20080303080091</td>\n",
       "      <td>39</td>\n",
       "      <td>2</td>\n",
       "      <td>1</td>\n",
       "      <td>39</td>\n",
       "      <td>1</td>\n",
       "      <td>2</td>\n",
       "      <td>1</td>\n",
       "      <td>1</td>\n",
       "      <td>1</td>\n",
       "      <td>57692</td>\n",
       "      <td>1.418367e+07</td>\n",
       "      <td>2008</td>\n",
       "      <td>10</td>\n",
       "    </tr>\n",
       "    <tr>\n",
       "      <th>7</th>\n",
       "      <td>20080303080113</td>\n",
       "      <td>39</td>\n",
       "      <td>2</td>\n",
       "      <td>2</td>\n",
       "      <td>22</td>\n",
       "      <td>4</td>\n",
       "      <td>2</td>\n",
       "      <td>-1</td>\n",
       "      <td>4</td>\n",
       "      <td>-1</td>\n",
       "      <td>-1</td>\n",
       "      <td>1.243300e+07</td>\n",
       "      <td>2008</td>\n",
       "      <td>5</td>\n",
       "    </tr>\n",
       "    <tr>\n",
       "      <th>8</th>\n",
       "      <td>20080303080123</td>\n",
       "      <td>36</td>\n",
       "      <td>2</td>\n",
       "      <td>2</td>\n",
       "      <td>48</td>\n",
       "      <td>5</td>\n",
       "      <td>2</td>\n",
       "      <td>-1</td>\n",
       "      <td>0</td>\n",
       "      <td>-1</td>\n",
       "      <td>-1</td>\n",
       "      <td>1.938589e+06</td>\n",
       "      <td>2008</td>\n",
       "      <td>4</td>\n",
       "    </tr>\n",
       "    <tr>\n",
       "      <th>9</th>\n",
       "      <td>20080303080139</td>\n",
       "      <td>43</td>\n",
       "      <td>2</td>\n",
       "      <td>1</td>\n",
       "      <td>53</td>\n",
       "      <td>1</td>\n",
       "      <td>2</td>\n",
       "      <td>-1</td>\n",
       "      <td>1</td>\n",
       "      <td>1</td>\n",
       "      <td>64615</td>\n",
       "      <td>2.478712e+06</td>\n",
       "      <td>2008</td>\n",
       "      <td>10</td>\n",
       "    </tr>\n",
       "  </tbody>\n",
       "</table>\n",
       "</div>"
      ],
      "text/plain": [
       "          case_id  education  hispanic  ethnicity  age  employed  gender  \\\n",
       "0  20080303080013         44         2          2   57         1       1   \n",
       "1  20080303080047         39         2          2   21         1       2   \n",
       "2  20080303080048         40         2          2   23         1       2   \n",
       "3  20080303080052         40         2          1   35         1       2   \n",
       "4  20080303080074         39         2          2   24         1       1   \n",
       "5  20080303080075         39         2          1   80         5       2   \n",
       "6  20080303080091         39         2          1   39         1       2   \n",
       "7  20080303080113         39         2          2   22         4       2   \n",
       "8  20080303080123         36         2          2   48         5       2   \n",
       "9  20080303080139         43         2          1   53         1       2   \n",
       "\n",
       "   spouse_empl  num_child  full_part_wrk  weekly_earn       weights  year  \\\n",
       "0           -1          0              1        72000  2.218259e+06  2008   \n",
       "1           -1          0              1        40000  1.513846e+07  2008   \n",
       "2           -1          1              1        32800  1.348611e+07  2008   \n",
       "3           -1          0              1        47800  3.332833e+06  2008   \n",
       "4           -1          1              1        40000  3.215040e+07  2008   \n",
       "5           -1          0             -1           -1  3.682800e+07  2008   \n",
       "6            1          1              1        57692  1.418367e+07  2008   \n",
       "7           -1          4             -1           -1  1.243300e+07  2008   \n",
       "8           -1          0             -1           -1  1.938589e+06  2008   \n",
       "9           -1          1              1        64615  2.478712e+06  2008   \n",
       "\n",
       "   income  \n",
       "0      10  \n",
       "1       8  \n",
       "2       9  \n",
       "3       8  \n",
       "4       3  \n",
       "5       6  \n",
       "6      10  \n",
       "7       5  \n",
       "8       4  \n",
       "9      10  "
      ]
     },
     "execution_count": 27,
     "metadata": {},
     "output_type": "execute_result"
    }
   ],
   "source": [
    "all_demo_income.head(10)"
   ]
  },
  {
   "cell_type": "markdown",
   "metadata": {},
   "source": [
    "### Save Point!"
   ]
  },
  {
   "cell_type": "code",
   "execution_count": 29,
   "metadata": {
    "ExecuteTime": {
     "end_time": "2020-03-27T04:28:36.984950Z",
     "start_time": "2020-03-27T04:28:36.289274Z"
    }
   },
   "outputs": [],
   "source": [
    "all_demo_income.to_csv('all_income_demo_unedit.csv')"
   ]
  },
  {
   "cell_type": "markdown",
   "metadata": {},
   "source": [
    "### Simplifying Categories\n"
   ]
  },
  {
   "cell_type": "markdown",
   "metadata": {},
   "source": [
    "#### Education\n",
    "31-38 combined into below highschool education"
   ]
  },
  {
   "cell_type": "code",
   "execution_count": 36,
   "metadata": {
    "ExecuteTime": {
     "end_time": "2020-03-27T04:37:36.591363Z",
     "start_time": "2020-03-27T04:37:36.585374Z"
    }
   },
   "outputs": [],
   "source": [
    "#start with education. combine all codes for below highschool education 31-38. keep 38 and change to \"below highschool\"\n",
    "all_demo_income.education.replace(to_replace=[31,32,33,34,35,36,37], value=38, inplace=True)"
   ]
  },
  {
   "cell_type": "code",
   "execution_count": 6,
   "metadata": {
    "ExecuteTime": {
     "end_time": "2020-03-27T05:42:37.576249Z",
     "start_time": "2020-03-27T05:42:37.569762Z"
    }
   },
   "outputs": [],
   "source": [
    "all_demo_income.education.replace(to_replace=[42], value=41, inplace=True)"
   ]
  },
  {
   "cell_type": "code",
   "execution_count": 7,
   "metadata": {
    "ExecuteTime": {
     "end_time": "2020-03-27T05:42:56.183731Z",
     "start_time": "2020-03-27T05:42:56.173750Z"
    }
   },
   "outputs": [
    {
     "data": {
      "text/plain": [
       "39    30355\n",
       "43    25237\n",
       "40    21258\n",
       "38    17105\n",
       "41    11641\n",
       "44    11521\n",
       "46     2291\n",
       "45     1937\n",
       "Name: education, dtype: int64"
      ]
     },
     "execution_count": 7,
     "metadata": {},
     "output_type": "execute_result"
    }
   ],
   "source": [
    "all_demo_income.education.value_counts()"
   ]
  },
  {
   "cell_type": "markdown",
   "metadata": {},
   "source": [
    "#### Income transforms\n",
    "1,2,3 - 0-9999 | 1\n",
    "\n",
    "4,5,6 - 10000 - 19999 | 2\n",
    "\n",
    "7,8 - 20000 - 29999 | 3\n",
    "\n",
    "9,10 - 30000 - 39999 | 4\n",
    "\n",
    "11 - 40000 - 49999 | 5\n",
    "\n",
    "12 - 50000 - 59999 | 6\n",
    "\n",
    "13 - 60,000 - 74999 | 7\n",
    "\n",
    "14 - 75000 - 99999 | 8\n",
    "\n",
    "15 - 100000 - 149,999 | 9\n",
    "\n",
    "16 - 150000 and over | 10\n"
   ]
  },
  {
   "cell_type": "code",
   "execution_count": 39,
   "metadata": {
    "ExecuteTime": {
     "end_time": "2020-03-27T04:46:31.802193Z",
     "start_time": "2020-03-27T04:46:31.798700Z"
    }
   },
   "outputs": [],
   "source": [
    "import matplotlib.pyplot as plt"
   ]
  },
  {
   "cell_type": "code",
   "execution_count": 41,
   "metadata": {
    "ExecuteTime": {
     "end_time": "2020-03-27T04:48:14.778547Z",
     "start_time": "2020-03-27T04:48:14.481770Z"
    }
   },
   "outputs": [
    {
     "data": {
      "text/plain": [
       "(array([ 3132.,  2084.,  3174.,  4141.,  3665.,  5934.,  6984.,  6961.,\n",
       "         7264.,  6507., 10271.,  9979., 12271., 14401., 13773., 10804.]),\n",
       " array([ 1.    ,  1.9375,  2.875 ,  3.8125,  4.75  ,  5.6875,  6.625 ,\n",
       "         7.5625,  8.5   ,  9.4375, 10.375 , 11.3125, 12.25  , 13.1875,\n",
       "        14.125 , 15.0625, 16.    ]),\n",
       " <a list of 16 Patch objects>)"
      ]
     },
     "execution_count": 41,
     "metadata": {},
     "output_type": "execute_result"
    },
    {
     "data": {
      "image/png": "[encoded data removed]",
      "text/plain": [
       "<Figure size 432x288 with 1 Axes>"
      ]
     },
     "metadata": {},
     "output_type": "display_data"
    }
   ],
   "source": [
    "plt.hist(all_demo_income[\"income\"], bins=16)"
   ]
  },
  {
   "cell_type": "code",
   "execution_count": 38,
   "metadata": {
    "ExecuteTime": {
     "end_time": "2020-03-27T04:38:32.557851Z",
     "start_time": "2020-03-27T04:38:32.549366Z"
    }
   },
   "outputs": [
    {
     "data": {
      "text/plain": [
       "14    14401\n",
       "15    13773\n",
       "13    12271\n",
       "16    10804\n",
       "11    10271\n",
       "12     9979\n",
       "9      7264\n",
       "7      6984\n",
       "8      6961\n",
       "10     6507\n",
       "6      5934\n",
       "4      4141\n",
       "5      3665\n",
       "3      3174\n",
       "1      3132\n",
       "2      2084\n",
       "Name: income, dtype: int64"
      ]
     },
     "execution_count": 38,
     "metadata": {},
     "output_type": "execute_result"
    }
   ],
   "source": [
    "all_demo_income.income.value_counts()"
   ]
  },
  {
   "cell_type": "code",
   "execution_count": 56,
   "metadata": {
    "ExecuteTime": {
     "end_time": "2020-03-27T04:58:53.027595Z",
     "start_time": "2020-03-27T04:58:53.023104Z"
    }
   },
   "outputs": [],
   "source": [
    "#start with education. combine all codes for below highschool education 31-38. keep 38 and change to \"below highschool\"\n",
    "all_demo_income.income.replace(to_replace=16, value=10, inplace=True)"
   ]
  },
  {
   "cell_type": "code",
   "execution_count": 57,
   "metadata": {
    "ExecuteTime": {
     "end_time": "2020-03-27T04:58:54.972261Z",
     "start_time": "2020-03-27T04:58:54.964276Z"
    }
   },
   "outputs": [
    {
     "data": {
      "text/plain": [
       "8     14401\n",
       "3     13945\n",
       "9     13773\n",
       "4     13771\n",
       "2     13740\n",
       "7     12271\n",
       "10    10804\n",
       "5     10271\n",
       "6      9979\n",
       "1      8390\n",
       "Name: income, dtype: int64"
      ]
     },
     "execution_count": 57,
     "metadata": {},
     "output_type": "execute_result"
    }
   ],
   "source": [
    "all_demo_income.income.value_counts()"
   ]
  },
  {
   "cell_type": "markdown",
   "metadata": {},
   "source": [
    "#### Ethnicity\n",
    "need to combine hispanic with ethnicity and reduce ethnicities\n",
    "hispanic\n",
    "1 - hispanic | 1\n",
    "ethnicity\n",
    "1 - White | 2\n",
    "2 - Black | 3\n",
    "3 - Native American | 4\n",
    "4 - Asian | 5\n",
    "5-26 - Other | 6"
   ]
  },
  {
   "cell_type": "code",
   "execution_count": 60,
   "metadata": {
    "ExecuteTime": {
     "end_time": "2020-03-27T05:07:37.066542Z",
     "start_time": "2020-03-27T05:07:37.057559Z"
    },
    "collapsed": true
   },
   "outputs": [
    {
     "data": {
      "text/plain": [
       "1     96348\n",
       "2     17674\n",
       "4      4606\n",
       "3       903\n",
       "7       715\n",
       "6       341\n",
       "5       251\n",
       "8       229\n",
       "10       96\n",
       "15       43\n",
       "9        40\n",
       "16       30\n",
       "11       16\n",
       "14       13\n",
       "18       12\n",
       "21        9\n",
       "12        5\n",
       "23        3\n",
       "13        3\n",
       "17        3\n",
       "19        3\n",
       "20        1\n",
       "25        1\n",
       "Name: ethnicity, dtype: int64"
      ]
     },
     "execution_count": 60,
     "metadata": {},
     "output_type": "execute_result"
    }
   ],
   "source": [
    "all_demo_income.ethnicity.value_counts()"
   ]
  },
  {
   "cell_type": "code",
   "execution_count": 61,
   "metadata": {
    "ExecuteTime": {
     "end_time": "2020-03-27T05:15:33.065909Z",
     "start_time": "2020-03-27T05:15:32.347257Z"
    }
   },
   "outputs": [],
   "source": [
    "all_demo_income.to_csv('before_ethnicity')"
   ]
  },
  {
   "cell_type": "code",
   "execution_count": 6,
   "metadata": {
    "ExecuteTime": {
     "end_time": "2020-03-27T05:28:47.913304Z",
     "start_time": "2020-03-27T05:28:47.738135Z"
    }
   },
   "outputs": [],
   "source": [
    "all_demo_income = pd.read_csv('before_ethnicity')"
   ]
  },
  {
   "cell_type": "code",
   "execution_count": 7,
   "metadata": {
    "ExecuteTime": {
     "end_time": "2020-03-27T05:28:56.663804Z",
     "start_time": "2020-03-27T05:28:50.016938Z"
    }
   },
   "outputs": [],
   "source": [
    "#combining ethnicity\n",
    "all_ethnicity = []\n",
    "for i in range(len(all_demo_income)):\n",
    "    if all_demo_income.hispanic[i] == 1:\n",
    "        all_ethnicity.append(1)\n",
    "    elif all_demo_income.ethnicity[i] == 1:\n",
    "        all_ethnicity.append(2)\n",
    "    elif all_demo_income.ethnicity[i] == 2:\n",
    "        all_ethnicity.append(3)\n",
    "    elif all_demo_income.ethnicity[i] == 3:\n",
    "        all_ethnicity.append(4)\n",
    "    elif all_demo_income.ethnicity[i] == 4:\n",
    "        all_ethnicity.append(5)\n",
    "    else:\n",
    "        all_ethnicity.append(6)"
   ]
  },
  {
   "cell_type": "code",
   "execution_count": 65,
   "metadata": {
    "ExecuteTime": {
     "end_time": "2020-03-27T05:16:52.200287Z",
     "start_time": "2020-03-27T05:16:51.910792Z"
    }
   },
   "outputs": [
    {
     "data": {
      "text/plain": [
       "(array([17628.,     0., 79880.,     0., 17182.,     0.,   647.,     0.,\n",
       "         4508.,  1500.]),\n",
       " array([1. , 1.5, 2. , 2.5, 3. , 3.5, 4. , 4.5, 5. , 5.5, 6. ]),\n",
       " <a list of 10 Patch objects>)"
      ]
     },
     "execution_count": 65,
     "metadata": {},
     "output_type": "execute_result"
    },
    {
     "data": {
      "image/png": "[encoded data removed]",
      "text/plain": [
       "<Figure size 432x288 with 1 Axes>"
      ]
     },
     "metadata": {},
     "output_type": "display_data"
    }
   ],
   "source": [
    "plt.hist(all_ethnicity)"
   ]
  },
  {
   "cell_type": "code",
   "execution_count": 8,
   "metadata": {
    "ExecuteTime": {
     "end_time": "2020-03-27T05:29:01.461261Z",
     "start_time": "2020-03-27T05:29:01.408861Z"
    }
   },
   "outputs": [],
   "source": [
    "all_demo_income['all_eth'] = all_ethnicity"
   ]
  },
  {
   "cell_type": "code",
   "execution_count": 9,
   "metadata": {
    "ExecuteTime": {
     "end_time": "2020-03-27T05:29:05.459109Z",
     "start_time": "2020-03-27T05:29:05.449128Z"
    }
   },
   "outputs": [
    {
     "data": {
      "text/plain": [
       "2    79880\n",
       "1    17628\n",
       "3    17182\n",
       "5     4508\n",
       "6     1500\n",
       "4      647\n",
       "Name: all_eth, dtype: int64"
      ]
     },
     "execution_count": 9,
     "metadata": {},
     "output_type": "execute_result"
    }
   ],
   "source": [
    "all_demo_income.all_eth.value_counts()"
   ]
  },
  {
   "cell_type": "code",
   "execution_count": 10,
   "metadata": {
    "ExecuteTime": {
     "end_time": "2020-03-27T05:29:14.661458Z",
     "start_time": "2020-03-27T05:29:14.656968Z"
    }
   },
   "outputs": [
    {
     "data": {
      "text/plain": [
       "Index(['Unnamed: 0', 'case_id', 'education', 'hispanic', 'ethnicity', 'age',\n",
       "       'employed', 'gender', 'spouse_empl', 'num_child', 'full_part_wrk',\n",
       "       'weekly_earn', 'weights', 'year', 'income', 'all_eth'],\n",
       "      dtype='object')"
      ]
     },
     "execution_count": 10,
     "metadata": {},
     "output_type": "execute_result"
    }
   ],
   "source": [
    "all_demo_income.columns"
   ]
  },
  {
   "cell_type": "code",
   "execution_count": 11,
   "metadata": {
    "ExecuteTime": {
     "end_time": "2020-03-27T05:29:44.727981Z",
     "start_time": "2020-03-27T05:29:43.953939Z"
    }
   },
   "outputs": [],
   "source": [
    "all_demo_income.to_csv('before_dicts.csv')"
   ]
  },
  {
   "cell_type": "code",
   "execution_count": 2,
   "metadata": {
    "ExecuteTime": {
     "end_time": "2020-03-27T05:34:03.007898Z",
     "start_time": "2020-03-27T05:34:02.806277Z"
    }
   },
   "outputs": [],
   "source": [
    "all_demo_income = pd.read_csv('before_dicts.csv')"
   ]
  },
  {
   "cell_type": "markdown",
   "metadata": {},
   "source": [
    "### Code mapping to text values"
   ]
  },
  {
   "cell_type": "markdown",
   "metadata": {},
   "source": [
    "#### making the dictonaries from PDFs"
   ]
  },
  {
   "cell_type": "code",
   "execution_count": 3,
   "metadata": {
    "ExecuteTime": {
     "end_time": "2020-03-27T05:34:14.565214Z",
     "start_time": "2020-03-27T05:34:14.559226Z"
    }
   },
   "outputs": [],
   "source": [
    "def building_dict(l):\n",
    "    lst = l.split(\"\\r\\n\")\n",
    "    num = [z[:2] for z in lst]\n",
    "    num = [x.strip(' ') for x in num]\n",
    "    text = [z[2:] for z in lst]\n",
    "    d = {num[i]:text[i] for i in range(len(num))}\n",
    "    return d "
   ]
  },
  {
   "cell_type": "code",
   "execution_count": 4,
   "metadata": {
    "ExecuteTime": {
     "end_time": "2020-03-27T05:35:03.060444Z",
     "start_time": "2020-03-27T05:35:03.054954Z"
    }
   },
   "outputs": [],
   "source": [
    "import pyperclip"
   ]
  },
  {
   "cell_type": "code",
   "execution_count": 5,
   "metadata": {
    "ExecuteTime": {
     "end_time": "2020-03-27T05:36:11.786781Z",
     "start_time": "2020-03-27T05:36:11.782789Z"
    }
   },
   "outputs": [],
   "source": [
    "#Copy the codes you want and store them in lists\n",
    "edu = pyperclip.paste()\n"
   ]
  },
  {
   "cell_type": "code",
   "execution_count": 6,
   "metadata": {
    "ExecuteTime": {
     "end_time": "2020-03-27T04:23:04.918987Z",
     "start_time": "2020-03-27T04:23:04.915495Z"
    }
   },
   "outputs": [],
   "source": [
    "income = pyperclip.paste()\n"
   ]
  },
  {
   "cell_type": "code",
   "execution_count": 9,
   "metadata": {
    "ExecuteTime": {
     "end_time": "2020-03-27T04:23:12.510050Z",
     "start_time": "2020-03-27T04:23:12.507056Z"
    }
   },
   "outputs": [],
   "source": [
    "income_dict = building_dict(income)"
   ]
  },
  {
   "cell_type": "code",
   "execution_count": 10,
   "metadata": {
    "ExecuteTime": {
     "end_time": "2020-03-27T04:23:14.637791Z",
     "start_time": "2020-03-27T04:23:14.627310Z"
    }
   },
   "outputs": [
    {
     "data": {
      "text/plain": [
       "{'1': 'Less than $5,000',\n",
       " '2': '$5,000 to $7,499',\n",
       " '3': '$7,500 to $9,999',\n",
       " '4': '$10,000 to $12,499',\n",
       " '5': '$12,500 to $14,999',\n",
       " '6': '$15,000 to $19,999',\n",
       " '7': '$20,000 to $24,999',\n",
       " '8': '$25,000 to $29,999',\n",
       " '9': '$30,000 to $34,999',\n",
       " '10': ' $35,000 to $39,999',\n",
       " '11': ' $40,000 to $49,999',\n",
       " '12': ' $50,000 to $59,999',\n",
       " '13': ' $60,000 to $74,999',\n",
       " '14': ' $75,000 to $99,999',\n",
       " '15': ' $100,000 to $149,999 (See note)',\n",
       " '16': ' $150,000 and over (See note)'}"
      ]
     },
     "execution_count": 10,
     "metadata": {},
     "output_type": "execute_result"
    }
   ],
   "source": [
    "income_dict"
   ]
  },
  {
   "cell_type": "code",
   "execution_count": 11,
   "metadata": {
    "ExecuteTime": {
     "end_time": "2020-03-27T04:23:21.230705Z",
     "start_time": "2020-03-27T04:23:21.227213Z"
    }
   },
   "outputs": [],
   "source": [
    "income_dict['15'] = '$100,000 to $149,999'"
   ]
  },
  {
   "cell_type": "code",
   "execution_count": 12,
   "metadata": {
    "ExecuteTime": {
     "end_time": "2020-03-27T04:23:54.951220Z",
     "start_time": "2020-03-27T04:23:54.947725Z"
    }
   },
   "outputs": [],
   "source": [
    "income_dict['16'] = '$150,000 and over'"
   ]
  },
  {
   "cell_type": "code",
   "execution_count": 272,
   "metadata": {
    "ExecuteTime": {
     "end_time": "2020-03-27T04:07:21.158116Z",
     "start_time": "2020-03-27T04:07:21.154622Z"
    }
   },
   "outputs": [],
   "source": [
    "edu_dict = building_dict(edu)"
   ]
  },
  {
   "cell_type": "code",
   "execution_count": 273,
   "metadata": {
    "ExecuteTime": {
     "end_time": "2020-03-27T04:07:22.232659Z",
     "start_time": "2020-03-27T04:07:22.227169Z"
    }
   },
   "outputs": [
    {
     "data": {
      "text/plain": [
       "{'31': ' Less than 1st grade',\n",
       " '32': ' 1st, 2nd, 3rd, or 4th grade',\n",
       " '33': ' 5th or 6th grade',\n",
       " '34': ' 7th or 8th grade',\n",
       " '35': ' 9th grade',\n",
       " '36': ' 10th grade',\n",
       " '37': ' 11th grade',\n",
       " '38': ' 12th grade - no diploma',\n",
       " '39': ' High school graduate - diploma or equivalent (GED)',\n",
       " '40': ' Some college but no degree',\n",
       " '41': ' Associate degree - occupational/vocational',\n",
       " '42': ' Associate degree - academic program',\n",
       " '43': \" Bachelor's degree (BA, AB, BS, etc.)\",\n",
       " '44': \" Master's degree (MA, MS, MEng, MEd, MSW, etc.)\",\n",
       " '45': ' Professional school degree (MD, DDS, DVM, etc.)',\n",
       " '46': ' Doctoral degree (PhD, EdD, etc.)'}"
      ]
     },
     "execution_count": 273,
     "metadata": {},
     "output_type": "execute_result"
    }
   ],
   "source": [
    "edu_dict"
   ]
  },
  {
   "cell_type": "code",
   "execution_count": 153,
   "metadata": {
    "ExecuteTime": {
     "end_time": "2020-03-27T02:45:02.400447Z",
     "start_time": "2020-03-27T02:45:02.395955Z"
    }
   },
   "outputs": [],
   "source": [
    "hisp = pyperclip.paste()"
   ]
  },
  {
   "cell_type": "code",
   "execution_count": 154,
   "metadata": {
    "ExecuteTime": {
     "end_time": "2020-03-27T02:46:25.400912Z",
     "start_time": "2020-03-27T02:46:25.397420Z"
    }
   },
   "outputs": [],
   "source": [
    "eth = pyperclip.paste()"
   ]
  },
  {
   "cell_type": "code",
   "execution_count": 279,
   "metadata": {
    "ExecuteTime": {
     "end_time": "2020-03-27T04:09:01.278418Z",
     "start_time": "2020-03-27T04:09:01.273927Z"
    }
   },
   "outputs": [],
   "source": [
    "gender = pyperclip.paste()"
   ]
  },
  {
   "cell_type": "code",
   "execution_count": 156,
   "metadata": {
    "ExecuteTime": {
     "end_time": "2020-03-27T02:47:57.920077Z",
     "start_time": "2020-03-27T02:47:57.916085Z"
    }
   },
   "outputs": [],
   "source": [
    "spouse_emp = pyperclip.paste()"
   ]
  },
  {
   "cell_type": "code",
   "execution_count": 157,
   "metadata": {
    "ExecuteTime": {
     "end_time": "2020-03-27T02:49:07.773597Z",
     "start_time": "2020-03-27T02:49:07.770105Z"
    }
   },
   "outputs": [],
   "source": [
    "part_full = pyperclip.paste()"
   ]
  },
  {
   "cell_type": "code",
   "execution_count": 159,
   "metadata": {
    "ExecuteTime": {
     "end_time": "2020-03-27T02:50:28.718071Z",
     "start_time": "2020-03-27T02:50:28.714080Z"
    }
   },
   "outputs": [],
   "source": []
  },
  {
   "cell_type": "code",
   "execution_count": 274,
   "metadata": {
    "ExecuteTime": {
     "end_time": "2020-03-27T04:07:36.261000Z",
     "start_time": "2020-03-27T04:07:36.257506Z"
    }
   },
   "outputs": [],
   "source": [
    "hisp_dict = building_dict(hisp)"
   ]
  },
  {
   "cell_type": "code",
   "execution_count": 275,
   "metadata": {
    "ExecuteTime": {
     "end_time": "2020-03-27T04:07:37.310637Z",
     "start_time": "2020-03-27T04:07:37.305648Z"
    }
   },
   "outputs": [
    {
     "data": {
      "text/plain": [
       "{'1': 'Hispanic', '2': 'Non-Hispanic'}"
      ]
     },
     "execution_count": 275,
     "metadata": {},
     "output_type": "execute_result"
    }
   ],
   "source": [
    "hisp_dict"
   ]
  },
  {
   "cell_type": "code",
   "execution_count": 276,
   "metadata": {
    "ExecuteTime": {
     "end_time": "2020-03-27T04:07:41.061582Z",
     "start_time": "2020-03-27T04:07:41.057590Z"
    }
   },
   "outputs": [],
   "source": [
    "eth_dict = building_dict(eth)"
   ]
  },
  {
   "cell_type": "code",
   "execution_count": 277,
   "metadata": {
    "ExecuteTime": {
     "end_time": "2020-03-27T04:07:42.184379Z",
     "start_time": "2020-03-27T04:07:42.177893Z"
    }
   },
   "outputs": [
    {
     "data": {
      "text/plain": [
       "{'1': 'White only',\n",
       " '2': 'Black only',\n",
       " '3': 'American Indian, Alaskan Native only',\n",
       " '4': 'Asian only',\n",
       " '5': 'Hawaiian/Pacific Islander only',\n",
       " '6': 'White-Black',\n",
       " '7': 'White-American Indian',\n",
       " '8': 'White-Asian',\n",
       " '9': 'White-Hawaiian',\n",
       " '10': ' Black-American Indian',\n",
       " '11': ' Black-Asian',\n",
       " '12': ' Black-Hawaiian',\n",
       " '13': ' American Indian-Asian',\n",
       " '14': ' Asian-Hawaiian or American Indian-Hawaiian (beginning 5/2012)',\n",
       " '15': ' White-Black-American Indian or Asian-Hawaiian (beginning 5/2012)',\n",
       " '16': ' White-Black-Asian or White-Black-American Indian (beginning 5/2012)',\n",
       " '17': ' White-American Indian-Asian or White-Black-Asian (beginning 5/2012)',\n",
       " '18': ' White-Asian-Hawaiian or White-Black-Hawaiian (beginning 5/2012)',\n",
       " '19': ' White-Black-American Indian-Asian or White-American Indian-Asian',\n",
       " '(b': 'eginning 5/2012)',\n",
       " '20': ' 2 or 3 races or White-American Indian-Hawaiian (beginning 5/2012)',\n",
       " '21': ' 4 or 5 races or White-Asian-Hawaiian (beginning 5/2012)',\n",
       " '22': ' Black-American Indian-Asian (beginning 5/2012)',\n",
       " '23': ' White-Black-American Indian-Asian (beginning 5/2012)',\n",
       " '24': ' White-American Indian-Asian-Hawaiian (beginning 5/2012)',\n",
       " '25': ' Other 3 race combinations (beginning 5/2012)',\n",
       " '26': ' Other 4 and 5 race combinations (beginning 5/2012)'}"
      ]
     },
     "execution_count": 277,
     "metadata": {},
     "output_type": "execute_result"
    }
   ],
   "source": [
    "eth_dict"
   ]
  },
  {
   "cell_type": "code",
   "execution_count": 280,
   "metadata": {
    "ExecuteTime": {
     "end_time": "2020-03-27T04:09:07.141856Z",
     "start_time": "2020-03-27T04:09:07.137864Z"
    }
   },
   "outputs": [],
   "source": [
    "gender_dict = building_dict(gender)"
   ]
  },
  {
   "cell_type": "code",
   "execution_count": 281,
   "metadata": {
    "ExecuteTime": {
     "end_time": "2020-03-27T04:09:12.101956Z",
     "start_time": "2020-03-27T04:09:12.097466Z"
    }
   },
   "outputs": [
    {
     "data": {
      "text/plain": [
       "{'1': 'Male', '2': 'Female\\r'}"
      ]
     },
     "execution_count": 281,
     "metadata": {},
     "output_type": "execute_result"
    }
   ],
   "source": [
    "gender_dict"
   ]
  },
  {
   "cell_type": "code",
   "execution_count": 282,
   "metadata": {
    "ExecuteTime": {
     "end_time": "2020-03-27T04:09:16.276777Z",
     "start_time": "2020-03-27T04:09:16.273284Z"
    }
   },
   "outputs": [],
   "source": [
    "spouse_dict = building_dict(spouse_emp)"
   ]
  },
  {
   "cell_type": "code",
   "execution_count": 283,
   "metadata": {
    "ExecuteTime": {
     "end_time": "2020-03-27T04:09:17.342264Z",
     "start_time": "2020-03-27T04:09:17.337274Z"
    }
   },
   "outputs": [
    {
     "data": {
      "text/plain": [
       "{'1': 'Employed', '2': 'Not employed\\r'}"
      ]
     },
     "execution_count": 283,
     "metadata": {},
     "output_type": "execute_result"
    }
   ],
   "source": [
    "spouse_dict"
   ]
  },
  {
   "cell_type": "code",
   "execution_count": 284,
   "metadata": {
    "ExecuteTime": {
     "end_time": "2020-03-27T04:09:21.845172Z",
     "start_time": "2020-03-27T04:09:21.841180Z"
    }
   },
   "outputs": [],
   "source": [
    "part_full_dict = building_dict(part_full)"
   ]
  },
  {
   "cell_type": "code",
   "execution_count": 285,
   "metadata": {
    "ExecuteTime": {
     "end_time": "2020-03-27T04:09:22.981765Z",
     "start_time": "2020-03-27T04:09:22.976776Z"
    }
   },
   "outputs": [
    {
     "data": {
      "text/plain": [
       "{'1': 'Full time', '2': 'Part time\\r'}"
      ]
     },
     "execution_count": 285,
     "metadata": {},
     "output_type": "execute_result"
    }
   ],
   "source": [
    "part_full_dict"
   ]
  },
  {
   "cell_type": "code",
   "execution_count": 131,
   "metadata": {
    "ExecuteTime": {
     "end_time": "2020-03-27T01:35:04.057509Z",
     "start_time": "2020-03-27T01:35:04.052520Z"
    }
   },
   "outputs": [],
   "source": [
    "all_demo_income[\"edu_text\"] = all_demo_income[\"education\"]"
   ]
  },
  {
   "cell_type": "code",
   "execution_count": 286,
   "metadata": {
    "ExecuteTime": {
     "end_time": "2020-03-27T04:09:32.745667Z",
     "start_time": "2020-03-27T04:09:32.729198Z"
    }
   },
   "outputs": [],
   "source": [
    "all_demo_income_2 = all_demo_income.copy(deep=True)"
   ]
  },
  {
   "cell_type": "markdown",
   "metadata": {},
   "source": [
    "#### Making dictionaries with alternate titles"
   ]
  },
  {
   "cell_type": "code",
   "execution_count": 15,
   "metadata": {
    "ExecuteTime": {
     "end_time": "2020-03-27T05:58:38.385701Z",
     "start_time": "2020-03-27T05:58:38.381211Z"
    }
   },
   "outputs": [],
   "source": [
    "edu_dict = {'38':'Less than High School', '39':'High School or GED', '40':'Some College', '41': 'Associates Degree', '43':'Bachelors','44':'Masters', '45':'Professional_Deg', '46':'Doctoral'}"
   ]
  },
  {
   "cell_type": "code",
   "execution_count": 14,
   "metadata": {
    "ExecuteTime": {
     "end_time": "2020-03-27T05:58:33.922205Z",
     "start_time": "2020-03-27T05:58:33.917215Z"
    }
   },
   "outputs": [],
   "source": [
    "income_dict = {'1':'$0-$9,999', '2':'$10,000 - $19,999', '3':'$20,000 - $29,000', '4':'$30,000 - $39,999', '5':'$40,000 - $49,999', '6':'$50,000 - $59,999', '7':'$60,000 - $74,999', '8':'$75,000 - $99,999', '9': '$100,000 - $149,999', '10':'$150000 and over'}"
   ]
  },
  {
   "cell_type": "code",
   "execution_count": 13,
   "metadata": {
    "ExecuteTime": {
     "end_time": "2020-03-27T05:58:29.193806Z",
     "start_time": "2020-03-27T05:58:29.189315Z"
    }
   },
   "outputs": [],
   "source": [
    "eth_dict = {'1' : 'Hispanic', '2': 'White', '3':'Native American', '4':'Black', '5':'Asian', '6':'Other'}"
   ]
  },
  {
   "cell_type": "code",
   "execution_count": 11,
   "metadata": {
    "ExecuteTime": {
     "end_time": "2020-03-27T05:57:06.586906Z",
     "start_time": "2020-03-27T05:57:06.582914Z"
    }
   },
   "outputs": [],
   "source": [
    "gender_dict = {'1':'Male','2':'Female'}"
   ]
  },
  {
   "cell_type": "code",
   "execution_count": 12,
   "metadata": {
    "ExecuteTime": {
     "end_time": "2020-03-27T05:58:25.751317Z",
     "start_time": "2020-03-27T05:58:25.742834Z"
    }
   },
   "outputs": [],
   "source": [
    "spouse_dict = {'1':'Employed', '2':'Not employed'}"
   ]
  },
  {
   "cell_type": "code",
   "execution_count": 16,
   "metadata": {
    "ExecuteTime": {
     "end_time": "2020-03-27T05:59:36.817343Z",
     "start_time": "2020-03-27T05:59:36.813352Z"
    }
   },
   "outputs": [],
   "source": [
    "part_full_dict = {'1':'Full Time', '2':'Part Time'}"
   ]
  },
  {
   "cell_type": "markdown",
   "metadata": {},
   "source": [
    "#### Adding dictionaries to file"
   ]
  },
  {
   "cell_type": "code",
   "execution_count": 17,
   "metadata": {
    "ExecuteTime": {
     "end_time": "2020-03-27T06:00:40.593067Z",
     "start_time": "2020-03-27T06:00:40.588577Z"
    }
   },
   "outputs": [],
   "source": [
    "cat_list = [\"educaton_text\",\"income_text\", \"gender_text\", \"ethnicity_text\", \"spouse_text\", \"full_part_text\"]\n",
    "var_list = [\"education\",\"income\", \"gender\", \"all_eth\", \"spouse_empl\", \"full_part_wrk\"]\n",
    "dict_list = [edu_dict, income_dict, gender_dict, eth_dict, spouse_dict, part_full_dict]\n"
   ]
  },
  {
   "cell_type": "code",
   "execution_count": 18,
   "metadata": {
    "ExecuteTime": {
     "end_time": "2020-03-27T06:00:54.089815Z",
     "start_time": "2020-03-27T06:00:54.083828Z"
    }
   },
   "outputs": [],
   "source": [
    "def mapping_variables(df,cat_list=cat_list, var_list=var_list, dict_list=dict_list):\n",
    "    for i in range(len(cat_list)):\n",
    "        new_col = cat_list[i]\n",
    "        old_col = var_list[i]\n",
    "        dicton = dict_list[i]\n",
    "        df_new = pd.DataFrame(df[old_col])\n",
    "        df_new =df_new.applymap(str)\n",
    "        df[new_col] = df_new[old_col].replace(dicton)\n",
    "        "
   ]
  },
  {
   "cell_type": "code",
   "execution_count": 20,
   "metadata": {
    "ExecuteTime": {
     "end_time": "2020-03-27T06:01:05.457727Z",
     "start_time": "2020-03-27T06:01:04.900752Z"
    }
   },
   "outputs": [],
   "source": [
    "mapping_variables(all_demo_income)"
   ]
  },
  {
   "cell_type": "code",
   "execution_count": 22,
   "metadata": {
    "ExecuteTime": {
     "end_time": "2020-03-27T06:01:43.427049Z",
     "start_time": "2020-03-27T06:01:43.399102Z"
    }
   },
   "outputs": [
    {
     "data": {
      "text/html": [
       "<div>\n",
       "<style scoped>\n",
       "    .dataframe tbody tr th:only-of-type {\n",
       "        vertical-align: middle;\n",
       "    }\n",
       "\n",
       "    .dataframe tbody tr th {\n",
       "        vertical-align: top;\n",
       "    }\n",
       "\n",
       "    .dataframe thead th {\n",
       "        text-align: right;\n",
       "    }\n",
       "</style>\n",
       "<table border=\"1\" class=\"dataframe\">\n",
       "  <thead>\n",
       "    <tr style=\"text-align: right;\">\n",
       "      <th></th>\n",
       "      <th>Unnamed: 0</th>\n",
       "      <th>Unnamed: 0.1</th>\n",
       "      <th>case_id</th>\n",
       "      <th>education</th>\n",
       "      <th>hispanic</th>\n",
       "      <th>ethnicity</th>\n",
       "      <th>age</th>\n",
       "      <th>employed</th>\n",
       "      <th>gender</th>\n",
       "      <th>spouse_empl</th>\n",
       "      <th>num_child</th>\n",
       "      <th>full_part_wrk</th>\n",
       "      <th>weekly_earn</th>\n",
       "      <th>weights</th>\n",
       "      <th>year</th>\n",
       "      <th>income</th>\n",
       "      <th>all_eth</th>\n",
       "      <th>educaton_text</th>\n",
       "      <th>income_text</th>\n",
       "      <th>gender_text</th>\n",
       "      <th>ethnicity_text</th>\n",
       "      <th>spouse_text</th>\n",
       "      <th>full_part_text</th>\n",
       "    </tr>\n",
       "  </thead>\n",
       "  <tbody>\n",
       "    <tr>\n",
       "      <th>0</th>\n",
       "      <td>0</td>\n",
       "      <td>0</td>\n",
       "      <td>20080303080013</td>\n",
       "      <td>44</td>\n",
       "      <td>2</td>\n",
       "      <td>2</td>\n",
       "      <td>57</td>\n",
       "      <td>1</td>\n",
       "      <td>1</td>\n",
       "      <td>-1</td>\n",
       "      <td>0</td>\n",
       "      <td>1</td>\n",
       "      <td>72000</td>\n",
       "      <td>2.218259e+06</td>\n",
       "      <td>2008</td>\n",
       "      <td>4</td>\n",
       "      <td>3</td>\n",
       "      <td>Masters</td>\n",
       "      <td>$30,000 - $39,999</td>\n",
       "      <td>Male</td>\n",
       "      <td>Native American</td>\n",
       "      <td>-1</td>\n",
       "      <td>Full Time</td>\n",
       "    </tr>\n",
       "    <tr>\n",
       "      <th>1</th>\n",
       "      <td>1</td>\n",
       "      <td>1</td>\n",
       "      <td>20080303080047</td>\n",
       "      <td>39</td>\n",
       "      <td>2</td>\n",
       "      <td>2</td>\n",
       "      <td>21</td>\n",
       "      <td>1</td>\n",
       "      <td>2</td>\n",
       "      <td>-1</td>\n",
       "      <td>0</td>\n",
       "      <td>1</td>\n",
       "      <td>40000</td>\n",
       "      <td>1.513846e+07</td>\n",
       "      <td>2008</td>\n",
       "      <td>3</td>\n",
       "      <td>3</td>\n",
       "      <td>High School or GED</td>\n",
       "      <td>$20,000 - $29,000</td>\n",
       "      <td>Female</td>\n",
       "      <td>Native American</td>\n",
       "      <td>-1</td>\n",
       "      <td>Full Time</td>\n",
       "    </tr>\n",
       "    <tr>\n",
       "      <th>2</th>\n",
       "      <td>2</td>\n",
       "      <td>2</td>\n",
       "      <td>20080303080048</td>\n",
       "      <td>40</td>\n",
       "      <td>2</td>\n",
       "      <td>2</td>\n",
       "      <td>23</td>\n",
       "      <td>1</td>\n",
       "      <td>2</td>\n",
       "      <td>-1</td>\n",
       "      <td>1</td>\n",
       "      <td>1</td>\n",
       "      <td>32800</td>\n",
       "      <td>1.348611e+07</td>\n",
       "      <td>2008</td>\n",
       "      <td>4</td>\n",
       "      <td>3</td>\n",
       "      <td>Some College</td>\n",
       "      <td>$30,000 - $39,999</td>\n",
       "      <td>Female</td>\n",
       "      <td>Native American</td>\n",
       "      <td>-1</td>\n",
       "      <td>Full Time</td>\n",
       "    </tr>\n",
       "    <tr>\n",
       "      <th>3</th>\n",
       "      <td>3</td>\n",
       "      <td>3</td>\n",
       "      <td>20080303080052</td>\n",
       "      <td>40</td>\n",
       "      <td>2</td>\n",
       "      <td>1</td>\n",
       "      <td>35</td>\n",
       "      <td>1</td>\n",
       "      <td>2</td>\n",
       "      <td>-1</td>\n",
       "      <td>0</td>\n",
       "      <td>1</td>\n",
       "      <td>47800</td>\n",
       "      <td>3.332833e+06</td>\n",
       "      <td>2008</td>\n",
       "      <td>3</td>\n",
       "      <td>2</td>\n",
       "      <td>Some College</td>\n",
       "      <td>$20,000 - $29,000</td>\n",
       "      <td>Female</td>\n",
       "      <td>White</td>\n",
       "      <td>-1</td>\n",
       "      <td>Full Time</td>\n",
       "    </tr>\n",
       "    <tr>\n",
       "      <th>4</th>\n",
       "      <td>4</td>\n",
       "      <td>4</td>\n",
       "      <td>20080303080074</td>\n",
       "      <td>39</td>\n",
       "      <td>2</td>\n",
       "      <td>2</td>\n",
       "      <td>24</td>\n",
       "      <td>1</td>\n",
       "      <td>1</td>\n",
       "      <td>-1</td>\n",
       "      <td>1</td>\n",
       "      <td>1</td>\n",
       "      <td>40000</td>\n",
       "      <td>3.215040e+07</td>\n",
       "      <td>2008</td>\n",
       "      <td>1</td>\n",
       "      <td>3</td>\n",
       "      <td>High School or GED</td>\n",
       "      <td>$0-$9,999</td>\n",
       "      <td>Male</td>\n",
       "      <td>Native American</td>\n",
       "      <td>-1</td>\n",
       "      <td>Full Time</td>\n",
       "    </tr>\n",
       "    <tr>\n",
       "      <th>5</th>\n",
       "      <td>5</td>\n",
       "      <td>5</td>\n",
       "      <td>20080303080075</td>\n",
       "      <td>39</td>\n",
       "      <td>2</td>\n",
       "      <td>1</td>\n",
       "      <td>80</td>\n",
       "      <td>5</td>\n",
       "      <td>2</td>\n",
       "      <td>-1</td>\n",
       "      <td>0</td>\n",
       "      <td>-1</td>\n",
       "      <td>-1</td>\n",
       "      <td>3.682800e+07</td>\n",
       "      <td>2008</td>\n",
       "      <td>2</td>\n",
       "      <td>2</td>\n",
       "      <td>High School or GED</td>\n",
       "      <td>$10,000 - $19,999</td>\n",
       "      <td>Female</td>\n",
       "      <td>White</td>\n",
       "      <td>-1</td>\n",
       "      <td>-1</td>\n",
       "    </tr>\n",
       "    <tr>\n",
       "      <th>6</th>\n",
       "      <td>6</td>\n",
       "      <td>6</td>\n",
       "      <td>20080303080091</td>\n",
       "      <td>39</td>\n",
       "      <td>2</td>\n",
       "      <td>1</td>\n",
       "      <td>39</td>\n",
       "      <td>1</td>\n",
       "      <td>2</td>\n",
       "      <td>1</td>\n",
       "      <td>1</td>\n",
       "      <td>1</td>\n",
       "      <td>57692</td>\n",
       "      <td>1.418367e+07</td>\n",
       "      <td>2008</td>\n",
       "      <td>4</td>\n",
       "      <td>2</td>\n",
       "      <td>High School or GED</td>\n",
       "      <td>$30,000 - $39,999</td>\n",
       "      <td>Female</td>\n",
       "      <td>White</td>\n",
       "      <td>Employed</td>\n",
       "      <td>Full Time</td>\n",
       "    </tr>\n",
       "    <tr>\n",
       "      <th>7</th>\n",
       "      <td>7</td>\n",
       "      <td>7</td>\n",
       "      <td>20080303080113</td>\n",
       "      <td>39</td>\n",
       "      <td>2</td>\n",
       "      <td>2</td>\n",
       "      <td>22</td>\n",
       "      <td>4</td>\n",
       "      <td>2</td>\n",
       "      <td>-1</td>\n",
       "      <td>4</td>\n",
       "      <td>-1</td>\n",
       "      <td>-1</td>\n",
       "      <td>1.243300e+07</td>\n",
       "      <td>2008</td>\n",
       "      <td>2</td>\n",
       "      <td>3</td>\n",
       "      <td>High School or GED</td>\n",
       "      <td>$10,000 - $19,999</td>\n",
       "      <td>Female</td>\n",
       "      <td>Native American</td>\n",
       "      <td>-1</td>\n",
       "      <td>-1</td>\n",
       "    </tr>\n",
       "    <tr>\n",
       "      <th>8</th>\n",
       "      <td>8</td>\n",
       "      <td>8</td>\n",
       "      <td>20080303080123</td>\n",
       "      <td>38</td>\n",
       "      <td>2</td>\n",
       "      <td>2</td>\n",
       "      <td>48</td>\n",
       "      <td>5</td>\n",
       "      <td>2</td>\n",
       "      <td>-1</td>\n",
       "      <td>0</td>\n",
       "      <td>-1</td>\n",
       "      <td>-1</td>\n",
       "      <td>1.938589e+06</td>\n",
       "      <td>2008</td>\n",
       "      <td>2</td>\n",
       "      <td>3</td>\n",
       "      <td>Less than High School</td>\n",
       "      <td>$10,000 - $19,999</td>\n",
       "      <td>Female</td>\n",
       "      <td>Native American</td>\n",
       "      <td>-1</td>\n",
       "      <td>-1</td>\n",
       "    </tr>\n",
       "    <tr>\n",
       "      <th>9</th>\n",
       "      <td>9</td>\n",
       "      <td>9</td>\n",
       "      <td>20080303080139</td>\n",
       "      <td>43</td>\n",
       "      <td>2</td>\n",
       "      <td>1</td>\n",
       "      <td>53</td>\n",
       "      <td>1</td>\n",
       "      <td>2</td>\n",
       "      <td>-1</td>\n",
       "      <td>1</td>\n",
       "      <td>1</td>\n",
       "      <td>64615</td>\n",
       "      <td>2.478712e+06</td>\n",
       "      <td>2008</td>\n",
       "      <td>4</td>\n",
       "      <td>2</td>\n",
       "      <td>Bachelors</td>\n",
       "      <td>$30,000 - $39,999</td>\n",
       "      <td>Female</td>\n",
       "      <td>White</td>\n",
       "      <td>-1</td>\n",
       "      <td>Full Time</td>\n",
       "    </tr>\n",
       "  </tbody>\n",
       "</table>\n",
       "</div>"
      ],
      "text/plain": [
       "   Unnamed: 0  Unnamed: 0.1         case_id  education  hispanic  ethnicity  \\\n",
       "0           0             0  20080303080013         44         2          2   \n",
       "1           1             1  20080303080047         39         2          2   \n",
       "2           2             2  20080303080048         40         2          2   \n",
       "3           3             3  20080303080052         40         2          1   \n",
       "4           4             4  20080303080074         39         2          2   \n",
       "5           5             5  20080303080075         39         2          1   \n",
       "6           6             6  20080303080091         39         2          1   \n",
       "7           7             7  20080303080113         39         2          2   \n",
       "8           8             8  20080303080123         38         2          2   \n",
       "9           9             9  20080303080139         43         2          1   \n",
       "\n",
       "   age  employed  gender  spouse_empl  num_child  full_part_wrk  weekly_earn  \\\n",
       "0   57         1       1           -1          0              1        72000   \n",
       "1   21         1       2           -1          0              1        40000   \n",
       "2   23         1       2           -1          1              1        32800   \n",
       "3   35         1       2           -1          0              1        47800   \n",
       "4   24         1       1           -1          1              1        40000   \n",
       "5   80         5       2           -1          0             -1           -1   \n",
       "6   39         1       2            1          1              1        57692   \n",
       "7   22         4       2           -1          4             -1           -1   \n",
       "8   48         5       2           -1          0             -1           -1   \n",
       "9   53         1       2           -1          1              1        64615   \n",
       "\n",
       "        weights  year  income  all_eth          educaton_text  \\\n",
       "0  2.218259e+06  2008       4        3                Masters   \n",
       "1  1.513846e+07  2008       3        3     High School or GED   \n",
       "2  1.348611e+07  2008       4        3           Some College   \n",
       "3  3.332833e+06  2008       3        2           Some College   \n",
       "4  3.215040e+07  2008       1        3     High School or GED   \n",
       "5  3.682800e+07  2008       2        2     High School or GED   \n",
       "6  1.418367e+07  2008       4        2     High School or GED   \n",
       "7  1.243300e+07  2008       2        3     High School or GED   \n",
       "8  1.938589e+06  2008       2        3  Less than High School   \n",
       "9  2.478712e+06  2008       4        2              Bachelors   \n",
       "\n",
       "         income_text gender_text   ethnicity_text spouse_text full_part_text  \n",
       "0  $30,000 - $39,999        Male  Native American          -1      Full Time  \n",
       "1  $20,000 - $29,000      Female  Native American          -1      Full Time  \n",
       "2  $30,000 - $39,999      Female  Native American          -1      Full Time  \n",
       "3  $20,000 - $29,000      Female            White          -1      Full Time  \n",
       "4          $0-$9,999        Male  Native American          -1      Full Time  \n",
       "5  $10,000 - $19,999      Female            White          -1             -1  \n",
       "6  $30,000 - $39,999      Female            White    Employed      Full Time  \n",
       "7  $10,000 - $19,999      Female  Native American          -1             -1  \n",
       "8  $10,000 - $19,999      Female  Native American          -1             -1  \n",
       "9  $30,000 - $39,999      Female            White          -1      Full Time  "
      ]
     },
     "execution_count": 22,
     "metadata": {},
     "output_type": "execute_result"
    }
   ],
   "source": [
    "all_demo_income.head(10)"
   ]
  },
  {
   "cell_type": "markdown",
   "metadata": {
    "heading_collapsed": true
   },
   "source": [
    "# Exporting for viz"
   ]
  },
  {
   "cell_type": "code",
   "execution_count": 23,
   "metadata": {
    "ExecuteTime": {
     "end_time": "2020-03-27T06:03:14.361828Z",
     "start_time": "2020-03-27T06:03:13.283379Z"
    },
    "hidden": true
   },
   "outputs": [],
   "source": [
    "all_demo_income.to_csv('edited.csv')"
   ]
  },
  {
   "cell_type": "markdown",
   "metadata": {},
   "source": [
    "# Activity Coding"
   ]
  },
  {
   "cell_type": "markdown",
   "metadata": {},
   "source": [
    "Activites are in need to be summed and weighted for all units:\n",
    "t01 - Personal Care\n",
    "t02 - Housework\n",
    "t03 - Caring for HH members\n",
    "t04 - Caring for non-HH members\n",
    "t05 - Work & Work Related Activites\n",
    "t06 - Education\n",
    "t07 - Consumer Purchases\n",
    "t08 - Professional & Medical Services\n",
    "t09 - Household Services\n",
    "t10 - Government Services \n",
    "t11 - Eating & Drinking\n",
    "t12 - Socializing, Relaxing & Leisure\n",
    "t13 - Sports, Exercise\n",
    "t14 - Religous & Spiritual\n",
    "t15 - Volunteer\n",
    "t16 - Telephone\n",
    "t18 - Traveling\n"
   ]
  }
 ],
 "metadata": {
  "kernelspec": {
   "display_name": "Python 3",
   "language": "python",
   "name": "python3"
  },
  "language_info": {
   "codemirror_mode": {
    "name": "ipython",
    "version": 3
   },
   "file_extension": ".py",
   "mimetype": "text/x-python",
   "name": "python",
   "nbconvert_exporter": "python",
   "pygments_lexer": "ipython3",
   "version": "3.7.7"
  },
  "toc": {
   "base_numbering": 1,
   "nav_menu": {
    "height": "12px",
    "width": "160px"
   },
   "number_sections": true,
   "sideBar": true,
   "skip_h1_title": false,
   "title_cell": "Table of Contents",
   "title_sidebar": "Contents",
   "toc_cell": true,
   "toc_position": {
    "height": "calc(100% - 180px)",
    "left": "10px",
    "top": "150px",
    "width": "360px"
   },
   "toc_section_display": true,
   "toc_window_display": true
  },
  "varInspector": {
   "cols": {
    "lenName": 16,
    "lenType": 16,
    "lenVar": 40
   },
   "kernels_config": {
    "python": {
     "delete_cmd_postfix": "",
     "delete_cmd_prefix": "del ",
     "library": "var_list.py",
     "varRefreshCmd": "print(var_dic_list())"
    },
    "r": {
     "delete_cmd_postfix": ") ",
     "delete_cmd_prefix": "rm(",
     "library": "var_list.r",
     "varRefreshCmd": "cat(var_dic_list()) "
    }
   },
   "types_to_exclude": [
    "module",
    "function",
    "builtin_function_or_method",
    "instance",
    "_Feature"
   ],
   "window_display": false
  }
 },
 "nbformat": 4,
 "nbformat_minor": 4
}
