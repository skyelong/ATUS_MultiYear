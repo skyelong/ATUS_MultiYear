{
 "cells": [
  {
   "cell_type": "markdown",
   "metadata": {
    "toc": true
   },
   "source": [
    "<h1>Table of Contents<span class=\"tocSkip\"></span></h1>\n",
    "<div class=\"toc\"><ul class=\"toc-item\"></ul></div>"
   ]
  },
  {
   "cell_type": "code",
   "execution_count": 6,
   "metadata": {
    "ExecuteTime": {
     "end_time": "2020-03-27T01:43:28.046518Z",
     "start_time": "2020-03-27T01:43:28.043025Z"
    }
   },
   "outputs": [],
   "source": [
    "import pyperclip\n",
    "import pandas as pd\n",
    "import re"
   ]
  },
  {
   "cell_type": "code",
   "execution_count": 34,
   "metadata": {
    "ExecuteTime": {
     "end_time": "2020-03-27T01:57:01.017434Z",
     "start_time": "2020-03-27T01:57:01.013443Z"
    }
   },
   "outputs": [],
   "source": [
    "dict = pyperclip.paste()"
   ]
  },
  {
   "cell_type": "code",
   "execution_count": 35,
   "metadata": {
    "ExecuteTime": {
     "end_time": "2020-03-27T01:57:02.042074Z",
     "start_time": "2020-03-27T01:57:02.037086Z"
    }
   },
   "outputs": [
    {
     "data": {
      "text/plain": [
       "\"31 Less than 1st grade\\r\\n32 1st, 2nd, 3rd, or 4th grade\\r\\n33 5th or 6th grade\\r\\n34 7th or 8th grade\\r\\n35 9th grade\\r\\n36 10th grade\\r\\n37 11th grade\\r\\n38 12th grade - no diploma\\r\\n39 High school graduate - diploma or equivalent (GED)\\r\\n40 Some college but no degree\\r\\n41 Associate degree - occupational/vocational\\r\\n42 Associate degree - academic program\\r\\n43 Bachelor's degree (BA, AB, BS, etc.)\\r\\n44 Master's degree (MA, MS, MEng, MEd, MSW, etc.)\\r\\n45 Professional school degree (MD, DDS, DVM, etc.)\\r\\n46 Doctoral degree (PhD, EdD, etc.)\""
      ]
     },
     "execution_count": 35,
     "metadata": {},
     "output_type": "execute_result"
    }
   ],
   "source": [
    "dict"
   ]
  },
  {
   "cell_type": "code",
   "execution_count": 48,
   "metadata": {
    "ExecuteTime": {
     "end_time": "2020-03-27T02:02:39.855788Z",
     "start_time": "2020-03-27T02:02:39.851798Z"
    }
   },
   "outputs": [],
   "source": [
    "dict2 = dict.split(\"\\r\\n\")"
   ]
  },
  {
   "cell_type": "code",
   "execution_count": 49,
   "metadata": {
    "ExecuteTime": {
     "end_time": "2020-03-27T02:02:42.103774Z",
     "start_time": "2020-03-27T02:02:42.099280Z"
    }
   },
   "outputs": [
    {
     "data": {
      "text/plain": [
       "['31 Less than 1st grade',\n",
       " '32 1st, 2nd, 3rd, or 4th grade',\n",
       " '33 5th or 6th grade',\n",
       " '34 7th or 8th grade',\n",
       " '35 9th grade',\n",
       " '36 10th grade',\n",
       " '37 11th grade',\n",
       " '38 12th grade - no diploma',\n",
       " '39 High school graduate - diploma or equivalent (GED)',\n",
       " '40 Some college but no degree',\n",
       " '41 Associate degree - occupational/vocational',\n",
       " '42 Associate degree - academic program',\n",
       " \"43 Bachelor's degree (BA, AB, BS, etc.)\",\n",
       " \"44 Master's degree (MA, MS, MEng, MEd, MSW, etc.)\",\n",
       " '45 Professional school degree (MD, DDS, DVM, etc.)',\n",
       " '46 Doctoral degree (PhD, EdD, etc.)']"
      ]
     },
     "execution_count": 49,
     "metadata": {},
     "output_type": "execute_result"
    }
   ],
   "source": [
    "dict2"
   ]
  },
  {
   "cell_type": "code",
   "execution_count": 77,
   "metadata": {
    "ExecuteTime": {
     "end_time": "2020-03-27T02:19:19.735162Z",
     "start_time": "2020-03-27T02:19:19.725679Z"
    }
   },
   "outputs": [
    {
     "ename": "ValueError",
     "evalue": "0 is not in list",
     "output_type": "error",
     "traceback": [
      "\u001b[1;31m---------------------------------------------------------------------------\u001b[0m",
      "\u001b[1;31mValueError\u001b[0m                                Traceback (most recent call last)",
      "\u001b[1;32m<ipython-input-77-51d124e95722>\u001b[0m in \u001b[0;36m<module>\u001b[1;34m\u001b[0m\n\u001b[1;32m----> 1\u001b[1;33m \u001b[0mdict2\u001b[0m\u001b[1;33m.\u001b[0m\u001b[0mindex\u001b[0m\u001b[1;33m(\u001b[0m\u001b[1;36m0\u001b[0m\u001b[1;33m)\u001b[0m\u001b[1;33m\u001b[0m\u001b[1;33m\u001b[0m\u001b[0m\n\u001b[0m",
      "\u001b[1;31mValueError\u001b[0m: 0 is not in list"
     ]
    }
   ],
   "source": [
    "dict2.index(0)"
   ]
  },
  {
   "cell_type": "code",
   "execution_count": 80,
   "metadata": {
    "ExecuteTime": {
     "end_time": "2020-03-27T02:21:58.927635Z",
     "start_time": "2020-03-27T02:21:58.923642Z"
    }
   },
   "outputs": [],
   "source": [
    "num = [z[:2] for z in dict2]\n",
    "text = [z[3:] for z in dict2]\n",
    "    "
   ]
  },
  {
   "cell_type": "code",
   "execution_count": 82,
   "metadata": {
    "ExecuteTime": {
     "end_time": "2020-03-27T02:24:37.918893Z",
     "start_time": "2020-03-27T02:24:37.914900Z"
    }
   },
   "outputs": [],
   "source": [
    "edu_dict = {num[i]:text[i] for i in range(len(num))}"
   ]
  },
  {
   "cell_type": "code",
   "execution_count": 83,
   "metadata": {
    "ExecuteTime": {
     "end_time": "2020-03-27T02:24:44.911583Z",
     "start_time": "2020-03-27T02:24:44.906093Z"
    }
   },
   "outputs": [
    {
     "data": {
      "text/plain": [
       "{'31': 'Less than 1st grade',\n",
       " '32': '1st, 2nd, 3rd, or 4th grade',\n",
       " '33': '5th or 6th grade',\n",
       " '34': '7th or 8th grade',\n",
       " '35': '9th grade',\n",
       " '36': '10th grade',\n",
       " '37': '11th grade',\n",
       " '38': '12th grade - no diploma',\n",
       " '39': 'High school graduate - diploma or equivalent (GED)',\n",
       " '40': 'Some college but no degree',\n",
       " '41': 'Associate degree - occupational/vocational',\n",
       " '42': 'Associate degree - academic program',\n",
       " '43': \"Bachelor's degree (BA, AB, BS, etc.)\",\n",
       " '44': \"Master's degree (MA, MS, MEng, MEd, MSW, etc.)\",\n",
       " '45': 'Professional school degree (MD, DDS, DVM, etc.)',\n",
       " '46': 'Doctoral degree (PhD, EdD, etc.)'}"
      ]
     },
     "execution_count": 83,
     "metadata": {},
     "output_type": "execute_result"
    }
   ],
   "source": [
    "edu_dict"
   ]
  }
 ],
 "metadata": {
  "kernelspec": {
   "display_name": "Python 3",
   "language": "python",
   "name": "python3"
  },
  "language_info": {
   "codemirror_mode": {
    "name": "ipython",
    "version": 3
   },
   "file_extension": ".py",
   "mimetype": "text/x-python",
   "name": "python",
   "nbconvert_exporter": "python",
   "pygments_lexer": "ipython3",
   "version": "3.7.7"
  },
  "toc": {
   "base_numbering": 1,
   "nav_menu": {},
   "number_sections": true,
   "sideBar": true,
   "skip_h1_title": false,
   "title_cell": "Table of Contents",
   "title_sidebar": "Contents",
   "toc_cell": true,
   "toc_position": {},
   "toc_section_display": true,
   "toc_window_display": false
  }
 },
 "nbformat": 4,
 "nbformat_minor": 4
}
