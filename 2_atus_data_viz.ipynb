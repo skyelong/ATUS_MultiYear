{
 "cells": [
  {
   "cell_type": "markdown",
   "metadata": {
    "toc": true
   },
   "source": [
    "<h1>Table of Contents<span class=\"tocSkip\"></span></h1>\n",
    "<div class=\"toc\"><ul class=\"toc-item\"><li><span><a href=\"#Income-and-Educational-Attainment\" data-toc-modified-id=\"Income-and-Educational-Attainment-1\"><span class=\"toc-item-num\">1&nbsp;&nbsp;</span>Income and Educational Attainment</a></span><ul class=\"toc-item\"><li><span><a href=\"#Basic-EDA\" data-toc-modified-id=\"Basic-EDA-1.1\"><span class=\"toc-item-num\">1.1&nbsp;&nbsp;</span>Basic EDA</a></span></li></ul></li></ul></div>"
   ]
  },
  {
   "cell_type": "code",
   "execution_count": 1,
   "metadata": {
    "ExecuteTime": {
     "end_time": "2020-03-27T04:14:47.167391Z",
     "start_time": "2020-03-27T04:14:45.777682Z"
    }
   },
   "outputs": [],
   "source": [
    "import pandas as pd\n",
    "import numpy as np\n",
    "import matplotlib.pyplot as plt\n",
    "import seaborn as sns\n",
    "sns.set()"
   ]
  },
  {
   "cell_type": "markdown",
   "metadata": {},
   "source": [
    "# Income and Educational Attainment"
   ]
  },
  {
   "cell_type": "markdown",
   "metadata": {},
   "source": [
    "## Basic EDA"
   ]
  },
  {
   "cell_type": "code",
   "execution_count": 2,
   "metadata": {
    "ExecuteTime": {
     "end_time": "2020-03-27T04:14:55.631922Z",
     "start_time": "2020-03-27T04:14:55.247654Z"
    }
   },
   "outputs": [],
   "source": [
    "filename = 'all_income_demo_2.csv'\n",
    "data = pd.read_csv(filename, index_col=0).reset_index(drop=True)"
   ]
  },
  {
   "cell_type": "code",
   "execution_count": 15,
   "metadata": {
    "ExecuteTime": {
     "end_time": "2020-03-27T04:18:22.035575Z",
     "start_time": "2020-03-27T04:18:22.027591Z"
    }
   },
   "outputs": [
    {
     "data": {
      "text/plain": [
       "39    30355\n",
       "43    25237\n",
       "40    21258\n",
       "44    11521\n",
       "42     6607\n",
       "41     5034\n",
       "37     3937\n",
       "36     3618\n",
       "35     3146\n",
       "34     2562\n",
       "46     2291\n",
       "45     1937\n",
       "33     1505\n",
       "38     1372\n",
       "32      752\n",
       "31      213\n",
       "Name: education, dtype: int64"
      ]
     },
     "execution_count": 15,
     "metadata": {},
     "output_type": "execute_result"
    }
   ],
   "source": [
    "data.education.value_counts()"
   ]
  },
  {
   "cell_type": "code",
   "execution_count": null,
   "metadata": {},
   "outputs": [],
   "source": [
    "#generate code maps for the education"
   ]
  },
  {
   "cell_type": "code",
   "execution_count": 11,
   "metadata": {
    "ExecuteTime": {
     "end_time": "2020-03-27T04:16:58.942264Z",
     "start_time": "2020-03-27T04:16:58.884324Z"
    }
   },
   "outputs": [
    {
     "name": "stdout",
     "output_type": "stream",
     "text": [
      "<class 'pandas.core.frame.DataFrame'>\n",
      "RangeIndex: 121345 entries, 0 to 121344\n",
      "Data columns (total 22 columns):\n",
      " #   Column          Non-Null Count   Dtype  \n",
      "---  ------          --------------   -----  \n",
      " 0   case_id         121345 non-null  int64  \n",
      " 1   education       121345 non-null  int64  \n",
      " 2   hispanic        121345 non-null  int64  \n",
      " 3   ethnicity       121345 non-null  int64  \n",
      " 4   age             121345 non-null  int64  \n",
      " 5   employed        121345 non-null  int64  \n",
      " 6   gender          121345 non-null  int64  \n",
      " 7   spouse_empl     121345 non-null  int64  \n",
      " 8   num_child       121345 non-null  int64  \n",
      " 9   full_part_wrk   121345 non-null  int64  \n",
      " 10  weekly_earn     121345 non-null  int64  \n",
      " 11  weights         121345 non-null  float64\n",
      " 12  year            121345 non-null  int64  \n",
      " 13  income          121345 non-null  int64  \n",
      " 14  edu_text        121345 non-null  int64  \n",
      " 15  educaton_text   121345 non-null  object \n",
      " 16  income_text     121345 non-null  object \n",
      " 17  hispanic_text   121345 non-null  object \n",
      " 18  gender_text     121345 non-null  object \n",
      " 19  ethnicity_text  121345 non-null  object \n",
      " 20  spouse_text     121345 non-null  object \n",
      " 21  full_part_text  121345 non-null  object \n",
      "dtypes: float64(1), int64(14), object(7)\n",
      "memory usage: 20.4+ MB\n"
     ]
    }
   ],
   "source": [
    "data.info()"
   ]
  },
  {
   "cell_type": "code",
   "execution_count": 5,
   "metadata": {
    "ExecuteTime": {
     "end_time": "2020-03-27T01:26:50.899353Z",
     "start_time": "2020-03-27T01:26:50.338420Z"
    }
   },
   "outputs": [
    {
     "data": {
      "text/html": [
       "<div>\n",
       "<style scoped>\n",
       "    .dataframe tbody tr th:only-of-type {\n",
       "        vertical-align: middle;\n",
       "    }\n",
       "\n",
       "    .dataframe tbody tr th {\n",
       "        vertical-align: top;\n",
       "    }\n",
       "\n",
       "    .dataframe thead th {\n",
       "        text-align: right;\n",
       "    }\n",
       "</style>\n",
       "<table border=\"1\" class=\"dataframe\">\n",
       "  <thead>\n",
       "    <tr style=\"text-align: right;\">\n",
       "      <th></th>\n",
       "      <th>count</th>\n",
       "      <th>mean</th>\n",
       "      <th>std</th>\n",
       "      <th>min</th>\n",
       "      <th>25%</th>\n",
       "      <th>50%</th>\n",
       "      <th>75%</th>\n",
       "      <th>max</th>\n",
       "    </tr>\n",
       "    <tr>\n",
       "      <th>education</th>\n",
       "      <th></th>\n",
       "      <th></th>\n",
       "      <th></th>\n",
       "      <th></th>\n",
       "      <th></th>\n",
       "      <th></th>\n",
       "      <th></th>\n",
       "      <th></th>\n",
       "    </tr>\n",
       "  </thead>\n",
       "  <tbody>\n",
       "    <tr>\n",
       "      <th>31</th>\n",
       "      <td>213.0</td>\n",
       "      <td>6.417840</td>\n",
       "      <td>3.690766</td>\n",
       "      <td>1.0</td>\n",
       "      <td>3.0</td>\n",
       "      <td>6.0</td>\n",
       "      <td>9.0</td>\n",
       "      <td>16.0</td>\n",
       "    </tr>\n",
       "    <tr>\n",
       "      <th>32</th>\n",
       "      <td>752.0</td>\n",
       "      <td>6.412234</td>\n",
       "      <td>3.575737</td>\n",
       "      <td>1.0</td>\n",
       "      <td>3.0</td>\n",
       "      <td>6.0</td>\n",
       "      <td>9.0</td>\n",
       "      <td>16.0</td>\n",
       "    </tr>\n",
       "    <tr>\n",
       "      <th>33</th>\n",
       "      <td>1505.0</td>\n",
       "      <td>6.964784</td>\n",
       "      <td>3.478958</td>\n",
       "      <td>1.0</td>\n",
       "      <td>4.0</td>\n",
       "      <td>7.0</td>\n",
       "      <td>9.0</td>\n",
       "      <td>16.0</td>\n",
       "    </tr>\n",
       "    <tr>\n",
       "      <th>34</th>\n",
       "      <td>2562.0</td>\n",
       "      <td>7.630757</td>\n",
       "      <td>4.035120</td>\n",
       "      <td>1.0</td>\n",
       "      <td>4.0</td>\n",
       "      <td>7.0</td>\n",
       "      <td>11.0</td>\n",
       "      <td>16.0</td>\n",
       "    </tr>\n",
       "    <tr>\n",
       "      <th>35</th>\n",
       "      <td>3146.0</td>\n",
       "      <td>8.951685</td>\n",
       "      <td>4.345517</td>\n",
       "      <td>1.0</td>\n",
       "      <td>6.0</td>\n",
       "      <td>9.0</td>\n",
       "      <td>13.0</td>\n",
       "      <td>16.0</td>\n",
       "    </tr>\n",
       "    <tr>\n",
       "      <th>36</th>\n",
       "      <td>3618.0</td>\n",
       "      <td>9.003040</td>\n",
       "      <td>4.465546</td>\n",
       "      <td>1.0</td>\n",
       "      <td>5.0</td>\n",
       "      <td>9.0</td>\n",
       "      <td>13.0</td>\n",
       "      <td>16.0</td>\n",
       "    </tr>\n",
       "    <tr>\n",
       "      <th>37</th>\n",
       "      <td>3937.0</td>\n",
       "      <td>8.698501</td>\n",
       "      <td>4.406640</td>\n",
       "      <td>1.0</td>\n",
       "      <td>5.0</td>\n",
       "      <td>9.0</td>\n",
       "      <td>13.0</td>\n",
       "      <td>16.0</td>\n",
       "    </tr>\n",
       "    <tr>\n",
       "      <th>38</th>\n",
       "      <td>1372.0</td>\n",
       "      <td>8.299563</td>\n",
       "      <td>4.102256</td>\n",
       "      <td>1.0</td>\n",
       "      <td>5.0</td>\n",
       "      <td>8.0</td>\n",
       "      <td>11.0</td>\n",
       "      <td>16.0</td>\n",
       "    </tr>\n",
       "    <tr>\n",
       "      <th>39</th>\n",
       "      <td>30355.0</td>\n",
       "      <td>9.297809</td>\n",
       "      <td>3.890110</td>\n",
       "      <td>1.0</td>\n",
       "      <td>6.0</td>\n",
       "      <td>10.0</td>\n",
       "      <td>13.0</td>\n",
       "      <td>16.0</td>\n",
       "    </tr>\n",
       "    <tr>\n",
       "      <th>40</th>\n",
       "      <td>21258.0</td>\n",
       "      <td>10.238263</td>\n",
       "      <td>3.942775</td>\n",
       "      <td>1.0</td>\n",
       "      <td>7.0</td>\n",
       "      <td>11.0</td>\n",
       "      <td>13.0</td>\n",
       "      <td>16.0</td>\n",
       "    </tr>\n",
       "    <tr>\n",
       "      <th>41</th>\n",
       "      <td>5034.0</td>\n",
       "      <td>10.732420</td>\n",
       "      <td>3.702061</td>\n",
       "      <td>1.0</td>\n",
       "      <td>8.0</td>\n",
       "      <td>11.0</td>\n",
       "      <td>14.0</td>\n",
       "      <td>16.0</td>\n",
       "    </tr>\n",
       "    <tr>\n",
       "      <th>42</th>\n",
       "      <td>6607.0</td>\n",
       "      <td>10.999546</td>\n",
       "      <td>3.689775</td>\n",
       "      <td>1.0</td>\n",
       "      <td>9.0</td>\n",
       "      <td>12.0</td>\n",
       "      <td>14.0</td>\n",
       "      <td>16.0</td>\n",
       "    </tr>\n",
       "    <tr>\n",
       "      <th>43</th>\n",
       "      <td>25237.0</td>\n",
       "      <td>12.474779</td>\n",
       "      <td>3.354694</td>\n",
       "      <td>1.0</td>\n",
       "      <td>11.0</td>\n",
       "      <td>13.0</td>\n",
       "      <td>15.0</td>\n",
       "      <td>16.0</td>\n",
       "    </tr>\n",
       "    <tr>\n",
       "      <th>44</th>\n",
       "      <td>11521.0</td>\n",
       "      <td>13.271938</td>\n",
       "      <td>2.956969</td>\n",
       "      <td>1.0</td>\n",
       "      <td>12.0</td>\n",
       "      <td>14.0</td>\n",
       "      <td>15.0</td>\n",
       "      <td>16.0</td>\n",
       "    </tr>\n",
       "    <tr>\n",
       "      <th>45</th>\n",
       "      <td>1937.0</td>\n",
       "      <td>13.916366</td>\n",
       "      <td>3.129146</td>\n",
       "      <td>1.0</td>\n",
       "      <td>13.0</td>\n",
       "      <td>15.0</td>\n",
       "      <td>16.0</td>\n",
       "      <td>16.0</td>\n",
       "    </tr>\n",
       "    <tr>\n",
       "      <th>46</th>\n",
       "      <td>2291.0</td>\n",
       "      <td>13.882148</td>\n",
       "      <td>2.860526</td>\n",
       "      <td>1.0</td>\n",
       "      <td>13.0</td>\n",
       "      <td>15.0</td>\n",
       "      <td>16.0</td>\n",
       "      <td>16.0</td>\n",
       "    </tr>\n",
       "  </tbody>\n",
       "</table>\n",
       "</div>"
      ],
      "text/plain": [
       "             count       mean       std  min   25%   50%   75%   max\n",
       "education                                                           \n",
       "31           213.0   6.417840  3.690766  1.0   3.0   6.0   9.0  16.0\n",
       "32           752.0   6.412234  3.575737  1.0   3.0   6.0   9.0  16.0\n",
       "33          1505.0   6.964784  3.478958  1.0   4.0   7.0   9.0  16.0\n",
       "34          2562.0   7.630757  4.035120  1.0   4.0   7.0  11.0  16.0\n",
       "35          3146.0   8.951685  4.345517  1.0   6.0   9.0  13.0  16.0\n",
       "36          3618.0   9.003040  4.465546  1.0   5.0   9.0  13.0  16.0\n",
       "37          3937.0   8.698501  4.406640  1.0   5.0   9.0  13.0  16.0\n",
       "38          1372.0   8.299563  4.102256  1.0   5.0   8.0  11.0  16.0\n",
       "39         30355.0   9.297809  3.890110  1.0   6.0  10.0  13.0  16.0\n",
       "40         21258.0  10.238263  3.942775  1.0   7.0  11.0  13.0  16.0\n",
       "41          5034.0  10.732420  3.702061  1.0   8.0  11.0  14.0  16.0\n",
       "42          6607.0  10.999546  3.689775  1.0   9.0  12.0  14.0  16.0\n",
       "43         25237.0  12.474779  3.354694  1.0  11.0  13.0  15.0  16.0\n",
       "44         11521.0  13.271938  2.956969  1.0  12.0  14.0  15.0  16.0\n",
       "45          1937.0  13.916366  3.129146  1.0  13.0  15.0  16.0  16.0\n",
       "46          2291.0  13.882148  2.860526  1.0  13.0  15.0  16.0  16.0"
      ]
     },
     "execution_count": 5,
     "metadata": {},
     "output_type": "execute_result"
    }
   ],
   "source": [
    "pd.set_option('display.max_rows', None)\n",
    "pd.set_option('display.max_columns', None)\n",
    "pd.set_option('display.width', None)\n",
    "pd.set_option('display.max_colwidth', None)\n",
    "data.groupby(['education']).describe()['income']"
   ]
  }
 ],
 "metadata": {
  "kernelspec": {
   "display_name": "Python 3",
   "language": "python",
   "name": "python3"
  },
  "language_info": {
   "codemirror_mode": {
    "name": "ipython",
    "version": 3
   },
   "file_extension": ".py",
   "mimetype": "text/x-python",
   "name": "python",
   "nbconvert_exporter": "python",
   "pygments_lexer": "ipython3",
   "version": "3.7.7"
  },
  "toc": {
   "base_numbering": 1,
   "nav_menu": {},
   "number_sections": true,
   "sideBar": true,
   "skip_h1_title": false,
   "title_cell": "Table of Contents",
   "title_sidebar": "Contents",
   "toc_cell": true,
   "toc_position": {},
   "toc_section_display": true,
   "toc_window_display": false
  }
 },
 "nbformat": 4,
 "nbformat_minor": 4
}
